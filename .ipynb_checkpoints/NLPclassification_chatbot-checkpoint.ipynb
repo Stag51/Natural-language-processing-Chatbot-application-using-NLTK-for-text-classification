{
  "cells": [
    {
      "cell_type": "markdown",
      "metadata": {
        "id": "bzIHdHV56bSJ"
      },
      "source": [
        "# Text classification using NLP / Core engine of a chat bot."
      ]
    },
    {
      "cell_type": "markdown",
      "metadata": {
        "id": "TG9MLghc6bSN"
      },
      "source": [
        "Human language is astoundingly complex and diverse. When we write, we often misspell or abbreviate words, or omit punctuation. There is a lot of unstructured data around us. Natural language processing helps computers communicate with humans in their own language and scales other language-related tasks. For example, NLP makes it possible for computers to read text, interpret it, measure sentiment and determine which parts are important. Understanding this will enable you to build the core component of any conversational chatbot. This is the core engine of a conversational chatbot"
      ]
    },
    {
      "cell_type": "markdown",
      "metadata": {
        "id": "z93i5WjN6bSO"
      },
      "source": [
        "Detecting patterns is a central part of Natural Language Processing. Words ending in -ed tend to be past tense verbs. Frequent use of will is indicative of news text (3). These observable patterns — word structure and word frequency — happen to correlate with particular aspects of meaning, such as tense and topic. But how did we know where to start looking, which aspects of form to associate with which aspects of meaning? In this series we shall learn to create the core engine of a chat bot. We will learn text classification using the techniques of natural language processing.\n",
        "\n"
      ]
    },
    {
      "cell_type": "markdown",
      "metadata": {
        "id": "5UyMkdTg6bSP"
      },
      "source": [
        "# Import useful libraries"
      ]
    },
    {
      "cell_type": "code",
      "execution_count": null,
      "metadata": {
        "id": "uDS0-5VA6bSQ"
      },
      "outputs": [],
      "source": [
        "import nltk"
      ]
    },
    {
      "cell_type": "code",
      "execution_count": null,
      "metadata": {
        "colab": {
          "base_uri": "https://localhost:8080/"
        },
        "id": "nQaMgg266bSQ",
        "outputId": "13de9565-a50c-4211-dbda-561b67ba8bea"
      },
      "outputs": [
        {
          "output_type": "stream",
          "name": "stderr",
          "text": [
            "[nltk_data] Downloading collection 'popular'\n",
            "[nltk_data]    | \n",
            "[nltk_data]    | Downloading package cmudict to /root/nltk_data...\n",
            "[nltk_data]    |   Unzipping corpora/cmudict.zip.\n",
            "[nltk_data]    | Downloading package gazetteers to /root/nltk_data...\n",
            "[nltk_data]    |   Unzipping corpora/gazetteers.zip.\n",
            "[nltk_data]    | Downloading package genesis to /root/nltk_data...\n",
            "[nltk_data]    |   Unzipping corpora/genesis.zip.\n",
            "[nltk_data]    | Downloading package gutenberg to /root/nltk_data...\n",
            "[nltk_data]    |   Unzipping corpora/gutenberg.zip.\n",
            "[nltk_data]    | Downloading package inaugural to /root/nltk_data...\n",
            "[nltk_data]    |   Unzipping corpora/inaugural.zip.\n",
            "[nltk_data]    | Downloading package movie_reviews to\n",
            "[nltk_data]    |     /root/nltk_data...\n",
            "[nltk_data]    |   Unzipping corpora/movie_reviews.zip.\n",
            "[nltk_data]    | Downloading package names to /root/nltk_data...\n",
            "[nltk_data]    |   Unzipping corpora/names.zip.\n",
            "[nltk_data]    | Downloading package shakespeare to /root/nltk_data...\n",
            "[nltk_data]    |   Unzipping corpora/shakespeare.zip.\n",
            "[nltk_data]    | Downloading package stopwords to /root/nltk_data...\n",
            "[nltk_data]    |   Unzipping corpora/stopwords.zip.\n",
            "[nltk_data]    | Downloading package treebank to /root/nltk_data...\n",
            "[nltk_data]    |   Unzipping corpora/treebank.zip.\n",
            "[nltk_data]    | Downloading package twitter_samples to\n",
            "[nltk_data]    |     /root/nltk_data...\n",
            "[nltk_data]    |   Unzipping corpora/twitter_samples.zip.\n",
            "[nltk_data]    | Downloading package omw to /root/nltk_data...\n",
            "[nltk_data]    | Downloading package omw-1.4 to /root/nltk_data...\n",
            "[nltk_data]    | Downloading package wordnet to /root/nltk_data...\n",
            "[nltk_data]    | Downloading package wordnet2021 to /root/nltk_data...\n",
            "[nltk_data]    | Downloading package wordnet31 to /root/nltk_data...\n",
            "[nltk_data]    | Downloading package wordnet_ic to /root/nltk_data...\n",
            "[nltk_data]    |   Unzipping corpora/wordnet_ic.zip.\n",
            "[nltk_data]    | Downloading package words to /root/nltk_data...\n",
            "[nltk_data]    |   Unzipping corpora/words.zip.\n",
            "[nltk_data]    | Downloading package maxent_ne_chunker to\n",
            "[nltk_data]    |     /root/nltk_data...\n",
            "[nltk_data]    |   Unzipping chunkers/maxent_ne_chunker.zip.\n",
            "[nltk_data]    | Downloading package punkt to /root/nltk_data...\n",
            "[nltk_data]    |   Unzipping tokenizers/punkt.zip.\n",
            "[nltk_data]    | Downloading package snowball_data to\n",
            "[nltk_data]    |     /root/nltk_data...\n",
            "[nltk_data]    | Downloading package averaged_perceptron_tagger to\n",
            "[nltk_data]    |     /root/nltk_data...\n",
            "[nltk_data]    |   Unzipping taggers/averaged_perceptron_tagger.zip.\n",
            "[nltk_data]    | \n",
            "[nltk_data]  Done downloading collection popular\n"
          ]
        },
        {
          "output_type": "execute_result",
          "data": {
            "text/plain": [
              "True"
            ]
          },
          "metadata": {},
          "execution_count": 8
        }
      ],
      "source": [
        "nltk.download(\"popular\")"
      ]
    },
    {
      "cell_type": "markdown",
      "metadata": {
        "id": "OBGv08Ax6bSR"
      },
      "source": [
        "### Install NLTK components:\n",
        "    \n",
        "nltk.download_gui()\n",
        "\n",
        "#The above will open a GUI\n",
        "Select the below\n",
        "\n",
        "    stopwords from Corpa\n",
        "    averaged_perceptron_tagger from All corpus\n",
        "    wordnet\n",
        "    \n",
        "OR you can download all the nltk components by:\n",
        "    nltk.download()\n",
        "    \n",
        "Please Note: The above will take much time (30-60mins depending on Internet speed)"
      ]
    },
    {
      "cell_type": "code",
      "execution_count": null,
      "metadata": {
        "id": "5rvhzB7E6bSS"
      },
      "outputs": [],
      "source": [
        "import re\n",
        "import os\n",
        "import csv\n",
        "from nltk.stem.snowball import SnowballStemmer\n",
        "import random\n",
        "from nltk.classify import SklearnClassifier\n",
        "from nltk.tokenize import RegexpTokenizer\n",
        "from nltk.corpus import stopwords\n",
        "from nltk.stem.wordnet import WordNetLemmatizer\n",
        "import numpy as np\n",
        "import pandas as pd"
      ]
    },
    {
      "cell_type": "code",
      "execution_count": null,
      "metadata": {
        "id": "ldIAT_rQ6bST"
      },
      "outputs": [],
      "source": [
        "## Get multiple outputs in the same cell\n",
        "from IPython.core.interactiveshell import InteractiveShell\n",
        "InteractiveShell.ast_node_interactivity = \"all\"\n",
        "\n",
        "## Ignore all warnings\n",
        "import warnings\n",
        "warnings.filterwarnings('ignore')\n",
        "warnings.filterwarnings(action='ignore', category=DeprecationWarning)"
      ]
    },
    {
      "cell_type": "code",
      "execution_count": null,
      "metadata": {
        "id": "NUv3NX7b6bST"
      },
      "outputs": [],
      "source": [
        "## Display all rows and columns of a dataframe instead of a truncated version\n",
        "from IPython.display import display\n",
        "pd.set_option('display.max_columns', None)\n",
        "pd.set_option('display.max_rows', None)"
      ]
    },
    {
      "cell_type": "markdown",
      "metadata": {
        "id": "ZBU4auEy6bST"
      },
      "source": [
        "## Preprocess"
      ]
    },
    {
      "cell_type": "code",
      "execution_count": null,
      "metadata": {
        "id": "ORj2Bps86bSU"
      },
      "outputs": [],
      "source": [
        "sentence = \"The Big brown fox jumped over a lazy dog.\"\n",
        "sentence2 = \"This is particularly important in today's world where we are swamped with unstructured natural language data on the variety of social media platforms people engage in now-a-days (note -  now-a-days in the decade of 2010-2020)\""
      ]
    },
    {
      "cell_type": "code",
      "execution_count": null,
      "metadata": {
        "colab": {
          "base_uri": "https://localhost:8080/",
          "height": 71
        },
        "id": "-C8kW_hP6bSU",
        "outputId": "bcf91d8b-b1cc-482b-b1a5-6b27dc75caab"
      },
      "outputs": [
        {
          "output_type": "execute_result",
          "data": {
            "text/plain": [
              "False"
            ]
          },
          "metadata": {},
          "execution_count": 13
        },
        {
          "output_type": "stream",
          "name": "stdout",
          "text": [
            "abcdefgh\n"
          ]
        },
        {
          "output_type": "execute_result",
          "data": {
            "text/plain": [
              "'the big brown fox jumped over a lazy dog.'"
            ],
            "application/vnd.google.colaboratory.intrinsic+json": {
              "type": "string"
            }
          },
          "metadata": {},
          "execution_count": 13
        },
        {
          "output_type": "execute_result",
          "data": {
            "text/plain": [
              "\"this is particularly important in today's world where we are swamped with unstructured natural language data on the variety of social media platforms people engage in now-a-days (note -  now-a-days in the decade of 2010-2020)\""
            ],
            "application/vnd.google.colaboratory.intrinsic+json": {
              "type": "string"
            }
          },
          "metadata": {},
          "execution_count": 13
        }
      ],
      "source": [
        "#convert sentence to lower case\n",
        "'This' == 'this'\n",
        "print('AbcdEFgH'.lower())\n",
        "sentence.lower()\n",
        "sentence2.lower()"
      ]
    },
    {
      "cell_type": "markdown",
      "metadata": {
        "id": "edMLt0AI6bSV"
      },
      "source": [
        "### Tokenize - extract individual words"
      ]
    },
    {
      "cell_type": "code",
      "execution_count": null,
      "metadata": {
        "colab": {
          "base_uri": "https://localhost:8080/"
        },
        "id": "7VPL6Osp6bSV",
        "outputId": "be624dea-9de1-4c95-ddaf-368812d14430"
      },
      "outputs": [
        {
          "output_type": "execute_result",
          "data": {
            "text/plain": [
              "['The', 'Big', 'brown', 'fox', 'jumped', 'over', 'a', 'lazy', 'dog']"
            ]
          },
          "metadata": {},
          "execution_count": 14
        },
        {
          "output_type": "execute_result",
          "data": {
            "text/plain": [
              "['This',\n",
              " 'is',\n",
              " 'particularly',\n",
              " 'important',\n",
              " 'in',\n",
              " 'today',\n",
              " 's',\n",
              " 'world',\n",
              " 'where',\n",
              " 'we',\n",
              " 'are',\n",
              " 'swamped',\n",
              " 'with',\n",
              " 'unstructured',\n",
              " 'natural',\n",
              " 'language',\n",
              " 'data',\n",
              " 'on',\n",
              " 'the',\n",
              " 'variety',\n",
              " 'of',\n",
              " 'social',\n",
              " 'media',\n",
              " 'platforms',\n",
              " 'people',\n",
              " 'engage',\n",
              " 'in',\n",
              " 'now',\n",
              " 'a',\n",
              " 'days',\n",
              " 'note',\n",
              " 'now',\n",
              " 'a',\n",
              " 'days',\n",
              " 'in',\n",
              " 'the',\n",
              " 'decade',\n",
              " 'of',\n",
              " '2010',\n",
              " '2020']"
            ]
          },
          "metadata": {},
          "execution_count": 14
        }
      ],
      "source": [
        "tokenizer = RegexpTokenizer(r'\\w+')\n",
        "tokens = tokenizer.tokenize(sentence)\n",
        "tokens\n",
        "tokens2 = tokenizer.tokenize(sentence2)\n",
        "tokens2"
      ]
    },
    {
      "cell_type": "markdown",
      "metadata": {
        "id": "eorwqi5O6bSV"
      },
      "source": [
        "### Stopwords : Filter words to remove non-useful words"
      ]
    },
    {
      "cell_type": "code",
      "execution_count": null,
      "metadata": {
        "colab": {
          "base_uri": "https://localhost:8080/"
        },
        "id": "3Egxc-Zt6bSV",
        "outputId": "28b6b9e3-0349-4d79-c437-d8b8e926e7ad"
      },
      "outputs": [
        {
          "output_type": "execute_result",
          "data": {
            "text/plain": [
              "['The', 'Big', 'brown', 'fox', 'jumped', 'lazy', 'dog']"
            ]
          },
          "metadata": {},
          "execution_count": 15
        }
      ],
      "source": [
        "filtered_words = [w for w in tokens if not w in stopwords.words('english')]\n",
        "filtered_words"
      ]
    },
    {
      "cell_type": "code",
      "execution_count": null,
      "metadata": {
        "colab": {
          "base_uri": "https://localhost:8080/"
        },
        "id": "d2K-sxVN6bSV",
        "outputId": "6e9a9a49-63b8-4b8e-876b-ab65ec8a863e"
      },
      "outputs": [
        {
          "output_type": "execute_result",
          "data": {
            "text/plain": [
              "['This',\n",
              " 'particularly',\n",
              " 'important',\n",
              " 'today',\n",
              " 'world',\n",
              " 'swamped',\n",
              " 'unstructured',\n",
              " 'natural',\n",
              " 'language',\n",
              " 'data',\n",
              " 'variety',\n",
              " 'social',\n",
              " 'media',\n",
              " 'platforms',\n",
              " 'people',\n",
              " 'engage',\n",
              " 'days',\n",
              " 'note',\n",
              " 'days',\n",
              " 'decade',\n",
              " '2010',\n",
              " '2020']"
            ]
          },
          "metadata": {},
          "execution_count": 16
        }
      ],
      "source": [
        "filtered_words = [w for w in tokens2 if not w in stopwords.words('english')]\n",
        "filtered_words"
      ]
    },
    {
      "cell_type": "code",
      "execution_count": null,
      "metadata": {
        "id": "4-2-ZFgb6bSW"
      },
      "outputs": [],
      "source": [
        "def preprocess(sentence):\n",
        "    sentence = sentence.lower()\n",
        "    tokenizer = RegexpTokenizer(r'\\w+')\n",
        "    tokens = tokenizer.tokenize(sentence)\n",
        "    filtered_words = [w for w in tokens if not w in stopwords.words('english')]\n",
        "    return filtered_words"
      ]
    },
    {
      "cell_type": "code",
      "execution_count": null,
      "metadata": {
        "colab": {
          "base_uri": "https://localhost:8080/"
        },
        "id": "WkN-ZQhE6bSW",
        "outputId": "10bd08e6-5486-4b5e-e56c-4bb8d25d20d4"
      },
      "outputs": [
        {
          "output_type": "stream",
          "name": "stdout",
          "text": [
            "['big', 'brown', 'fox', 'jumped', 'lazy', 'dog']\n"
          ]
        }
      ],
      "source": [
        "preprocessed_sentence = preprocess(sentence)\n",
        "print(preprocessed_sentence)"
      ]
    },
    {
      "cell_type": "code",
      "execution_count": null,
      "metadata": {
        "colab": {
          "base_uri": "https://localhost:8080/"
        },
        "id": "OMNkmirP6bSW",
        "outputId": "c8a242c4-3b41-4785-9b9f-5dec63eef296"
      },
      "outputs": [
        {
          "output_type": "execute_result",
          "data": {
            "text/plain": [
              "['particularly',\n",
              " 'important',\n",
              " 'today',\n",
              " 'world',\n",
              " 'swamped',\n",
              " 'unstructured',\n",
              " 'natural',\n",
              " 'language',\n",
              " 'data',\n",
              " 'variety',\n",
              " 'social',\n",
              " 'media',\n",
              " 'platforms',\n",
              " 'people',\n",
              " 'engage',\n",
              " 'days',\n",
              " 'note',\n",
              " 'days',\n",
              " 'decade',\n",
              " '2010',\n",
              " '2020']"
            ]
          },
          "metadata": {},
          "execution_count": 19
        }
      ],
      "source": [
        "preprocess(sentence2)"
      ]
    },
    {
      "cell_type": "markdown",
      "metadata": {
        "id": "BQfrs62F6bSW"
      },
      "source": [
        "## Tagging"
      ]
    },
    {
      "cell_type": "code",
      "execution_count": null,
      "metadata": {
        "colab": {
          "base_uri": "https://localhost:8080/"
        },
        "id": "G8EhTpHu6bSW",
        "outputId": "a6b0dda0-9d85-4367-82d6-9dce570dac78"
      },
      "outputs": [
        {
          "output_type": "stream",
          "name": "stdout",
          "text": [
            "[('big', 'JJ'), ('brown', 'NN'), ('fox', 'NN'), ('jumped', 'VBD'), ('lazy', 'JJ'), ('dog', 'NN')]\n"
          ]
        }
      ],
      "source": [
        "tags = nltk.pos_tag(preprocessed_sentence)\n",
        "print(tags)"
      ]
    },
    {
      "cell_type": "code",
      "execution_count": null,
      "metadata": {
        "colab": {
          "base_uri": "https://localhost:8080/"
        },
        "id": "umMBZv6t6bSW",
        "outputId": "78c8bada-c855-425a-efb1-5f2e2c389ba4"
      },
      "outputs": [
        {
          "output_type": "stream",
          "name": "stdout",
          "text": [
            "[('particularly', 'RB'), ('important', 'JJ'), ('today', 'NN'), ('world', 'NN'), ('swamped', 'VBD'), ('unstructured', 'JJ'), ('natural', 'JJ'), ('language', 'NN'), ('data', 'NNS'), ('variety', 'NN'), ('social', 'JJ'), ('media', 'NNS'), ('platforms', 'NNS'), ('people', 'NNS'), ('engage', 'VBP'), ('days', 'NNS'), ('note', 'VBP'), ('days', 'NNS'), ('decade', 'NN'), ('2010', 'CD'), ('2020', 'CD')]\n"
          ]
        }
      ],
      "source": [
        "tags = nltk.pos_tag(preprocess(sentence2))\n",
        "print(tags)"
      ]
    },
    {
      "cell_type": "markdown",
      "metadata": {
        "id": "ILZa7mHq6bSX"
      },
      "source": [
        "## Extracting only Nouns and Verb nouns"
      ]
    },
    {
      "cell_type": "raw",
      "metadata": {
        "id": "xVLKKHXj6bSX"
      },
      "source": [
        "POS tag list:\n",
        "\n",
        "CC coordinating conjunction\n",
        "CD cardinal digit\n",
        "DT determiner\n",
        "EX existential there (like: \"there is\" ... think of it like \"there exists\")\n",
        "FW foreign word\n",
        "IN preposition/subordinating conjunction\n",
        "JJ adjective 'big'\n",
        "JJR adjective, comparative 'bigger'\n",
        "JJS adjective, superlative 'biggest'\n",
        "LS list marker 1)\n",
        "MD modal could, will\n",
        "NN noun, singular 'desk'\n",
        "NNS noun plural 'desks'\n",
        "NNP proper noun, singular 'Harrison'\n",
        "NNPS proper noun, plural 'Americans'\n",
        "PDT predeterminer 'all the kids'\n",
        "POS possessive ending parent's\n",
        "PRP personal pronoun I, he, she\n",
        "PRP$ possessive pronoun my, his, hers\n",
        "RB adverb very, silently,\n",
        "RBR adverb, comparative better\n",
        "RBS adverb, superlative best\n",
        "RP particle give up\n",
        "TO to go 'to' the store.\n",
        "UH interjection errrrrrrrm\n",
        "VB verb, base form take\n",
        "VBD verb, past tense took\n",
        "VBG verb, gerund/present participle taking\n",
        "VBN verb, past participle taken\n",
        "VBP verb, sing. present, non-3d take\n",
        "VBZ verb, 3rd person sing. present takes\n",
        "WDT wh-determiner which\n",
        "WP wh-pronoun who, what\n",
        "WP$ possessive wh-pronoun whose\n",
        "WRB wh-abverb where, when"
      ]
    },
    {
      "cell_type": "code",
      "execution_count": null,
      "metadata": {
        "id": "Hgee_u886bSX"
      },
      "outputs": [],
      "source": [
        "def extract_tagged(sentences):\n",
        "    features = []\n",
        "    for tagged_word in sentences:\n",
        "        word, tag = tagged_word\n",
        "        if tag=='NN' or tag == 'VBN' or tag == 'NNS' or tag == 'VBP' or tag == 'RB' or tag == 'VBZ' or tag == 'VBG' or tag =='PRP' or tag == 'JJ':\n",
        "            features.append(word)\n",
        "    return features"
      ]
    },
    {
      "cell_type": "code",
      "execution_count": null,
      "metadata": {
        "colab": {
          "base_uri": "https://localhost:8080/"
        },
        "id": "bWBDI7K86bSX",
        "outputId": "d772cade-f51b-46b8-e7a8-bddb76dcde28"
      },
      "outputs": [
        {
          "output_type": "execute_result",
          "data": {
            "text/plain": [
              "['particularly',\n",
              " 'important',\n",
              " 'today',\n",
              " 'world',\n",
              " 'unstructured',\n",
              " 'natural',\n",
              " 'language',\n",
              " 'data',\n",
              " 'variety',\n",
              " 'social',\n",
              " 'media',\n",
              " 'platforms',\n",
              " 'people',\n",
              " 'engage',\n",
              " 'days',\n",
              " 'note',\n",
              " 'days',\n",
              " 'decade']"
            ]
          },
          "metadata": {},
          "execution_count": 23
        }
      ],
      "source": [
        "extract_tagged(tags)"
      ]
    },
    {
      "cell_type": "markdown",
      "metadata": {
        "id": "WIymDpA36bSX"
      },
      "source": [
        "## Lemmatize words"
      ]
    },
    {
      "cell_type": "code",
      "execution_count": null,
      "metadata": {
        "colab": {
          "base_uri": "https://localhost:8080/"
        },
        "id": "mfPEnDrq6bSX",
        "outputId": "4aa910fc-27a1-4616-b53e-a4762761b21a"
      },
      "outputs": [
        {
          "output_type": "stream",
          "name": "stdout",
          "text": [
            "cactus\n",
            "willing\n",
            "foot\n",
            "stemmed\n",
            "cactus\n"
          ]
        }
      ],
      "source": [
        "lmtzr = WordNetLemmatizer()\n",
        "print(lmtzr.lemmatize('cacti'))\n",
        "print(lmtzr.lemmatize('willing'))\n",
        "print(lmtzr.lemmatize('feet'))\n",
        "print(lmtzr.lemmatize('stemmed'))\n",
        "\n",
        "print(lmtzr.lemmatize('cactus'))"
      ]
    },
    {
      "cell_type": "code",
      "execution_count": null,
      "metadata": {
        "id": "e8lfJeEu6bSX"
      },
      "outputs": [],
      "source": []
    },
    {
      "cell_type": "code",
      "execution_count": null,
      "metadata": {
        "id": "lsFaK5VQ6bSX"
      },
      "outputs": [],
      "source": []
    },
    {
      "cell_type": "markdown",
      "metadata": {
        "id": "CFC59X3h6bSX"
      },
      "source": [
        "## Stem words"
      ]
    },
    {
      "cell_type": "code",
      "execution_count": null,
      "metadata": {
        "id": "tnx5vCYS6bSY"
      },
      "outputs": [],
      "source": [
        "words_for_stemming = ['stem', 'stemming', 'stemmed', 'stemmer', 'stems','feet','willing']"
      ]
    },
    {
      "cell_type": "code",
      "execution_count": null,
      "metadata": {
        "colab": {
          "base_uri": "https://localhost:8080/"
        },
        "id": "LOgArKiK6bSY",
        "outputId": "acc98f4c-8a1f-4c0d-f258-c376668d09b1"
      },
      "outputs": [
        {
          "output_type": "execute_result",
          "data": {
            "text/plain": [
              "['stem', 'stem', 'stem', 'stemmer', 'stem', 'feet', 'will']"
            ]
          },
          "metadata": {},
          "execution_count": 26
        }
      ],
      "source": [
        "stemmer = SnowballStemmer(\"english\")\n",
        "[stemmer.stem(x) for x in words_for_stemming]"
      ]
    },
    {
      "cell_type": "markdown",
      "metadata": {
        "id": "T4kfPO0-6bSY"
      },
      "source": [
        "## Putting it all together"
      ]
    },
    {
      "cell_type": "code",
      "execution_count": null,
      "metadata": {
        "id": "QvT_lYtf6bSY"
      },
      "outputs": [],
      "source": [
        "def extract_feature(text):\n",
        "    words = preprocess(text)\n",
        "#     print('words: ',words)\n",
        "    tags = nltk.pos_tag(words)\n",
        "#     print('tags: ',tags)\n",
        "    extracted_features = extract_tagged(tags)\n",
        "#     print('Extracted features: ',extracted_features)\n",
        "    stemmed_words = [stemmer.stem(x) for x in extracted_features]\n",
        "#     print(stemmed_words)\n",
        "\n",
        "    result = [lmtzr.lemmatize(x) for x in stemmed_words]\n",
        "   \n",
        "    return result"
      ]
    },
    {
      "cell_type": "code",
      "execution_count": null,
      "metadata": {
        "colab": {
          "base_uri": "https://localhost:8080/",
          "height": 36
        },
        "id": "0UIrwrIq6bSY",
        "outputId": "4e729f7e-1f64-4d4f-9f8c-fe6ca6fdc7fd"
      },
      "outputs": [
        {
          "output_type": "execute_result",
          "data": {
            "text/plain": [
              "'The Big brown fox jumped over a lazy dog.'"
            ],
            "application/vnd.google.colaboratory.intrinsic+json": {
              "type": "string"
            }
          },
          "metadata": {},
          "execution_count": 28
        }
      ],
      "source": [
        "sentence"
      ]
    },
    {
      "cell_type": "code",
      "execution_count": null,
      "metadata": {
        "colab": {
          "base_uri": "https://localhost:8080/"
        },
        "id": "aDH3jvZ_6bSY",
        "outputId": "2489d258-93b7-428f-b3cc-d3a0e4fa1246"
      },
      "outputs": [
        {
          "output_type": "stream",
          "name": "stdout",
          "text": [
            "['big', 'brown', 'fox', 'lazi', 'dog']\n"
          ]
        }
      ],
      "source": [
        "words = extract_feature(sentence)\n",
        "print(words)"
      ]
    },
    {
      "cell_type": "code",
      "execution_count": null,
      "metadata": {
        "colab": {
          "base_uri": "https://localhost:8080/"
        },
        "id": "qEAuCyGu6bSY",
        "outputId": "c02eb6ca-db96-41b1-aceb-2823cc29cd1b"
      },
      "outputs": [
        {
          "output_type": "stream",
          "name": "stdout",
          "text": [
            "['particular', 'import', 'today', 'world', 'unstructur', 'natur', 'languag', 'data', 'varieti', 'social', 'medium', 'platform', 'peopl', 'engag', 'day', 'note', 'day', 'decad']\n"
          ]
        }
      ],
      "source": [
        "words = extract_feature(sentence2)\n",
        "print(words)"
      ]
    },
    {
      "cell_type": "code",
      "execution_count": null,
      "metadata": {
        "colab": {
          "base_uri": "https://localhost:8080/"
        },
        "id": "AGpsGrfg6bSY",
        "outputId": "7b440df4-0d05-47ea-8f4a-9bafa2194dc5"
      },
      "outputs": [
        {
          "output_type": "execute_result",
          "data": {
            "text/plain": [
              "['hurt', 'right', 'foot', 'wear', 'white', 'shoe', 'foot']"
            ]
          },
          "metadata": {},
          "execution_count": 31
        }
      ],
      "source": [
        "extract_feature(\"He hurt his right foot while he was wearing white shoes on his feet\")"
      ]
    },
    {
      "cell_type": "markdown",
      "metadata": {
        "id": "r0JZ0nfs6bSY"
      },
      "source": [
        "## Implementing bag of words"
      ]
    },
    {
      "cell_type": "markdown",
      "metadata": {
        "id": "G-YhYJUt6bSY"
      },
      "source": [
        "In simple terms, it’s a collection of words to represent a sentence, disregarding the order in which they appear."
      ]
    },
    {
      "cell_type": "code",
      "execution_count": null,
      "metadata": {
        "id": "STbY5-cS6bSZ"
      },
      "outputs": [],
      "source": [
        "def word_feats(words):\n",
        "    return dict([(word, True) for word in words])"
      ]
    },
    {
      "cell_type": "code",
      "execution_count": null,
      "metadata": {
        "colab": {
          "base_uri": "https://localhost:8080/"
        },
        "id": "nHh6uLHE6bSZ",
        "outputId": "5b0ff6d8-bdc4-4bf9-dcc5-bafbb459a720"
      },
      "outputs": [
        {
          "output_type": "execute_result",
          "data": {
            "text/plain": [
              "{'particular': True,\n",
              " 'import': True,\n",
              " 'today': True,\n",
              " 'world': True,\n",
              " 'unstructur': True,\n",
              " 'natur': True,\n",
              " 'languag': True,\n",
              " 'data': True,\n",
              " 'varieti': True,\n",
              " 'social': True,\n",
              " 'medium': True,\n",
              " 'platform': True,\n",
              " 'peopl': True,\n",
              " 'engag': True,\n",
              " 'day': True,\n",
              " 'note': True,\n",
              " 'decad': True}"
            ]
          },
          "metadata": {},
          "execution_count": 33
        }
      ],
      "source": [
        "word_feats(words)"
      ]
    },
    {
      "cell_type": "markdown",
      "metadata": {
        "id": "qOneWPQ-6bSZ"
      },
      "source": [
        "## Parsing the whole document"
      ]
    },
    {
      "cell_type": "code",
      "execution_count": null,
      "metadata": {
        "id": "9WlTZK4h6bSZ"
      },
      "outputs": [],
      "source": [
        "def extract_feature_from_doc(data):\n",
        "    result = []\n",
        "    corpus = []\n",
        "    # The responses of the chat bot\n",
        "    answers = {}\n",
        "    for (text,category,answer) in data:\n",
        "\n",
        "        features = extract_feature(text)\n",
        "\n",
        "        corpus.append(features)\n",
        "        result.append((word_feats(features), category))\n",
        "        answers[category] = answer\n",
        "\n",
        "    return (result, sum(corpus,[]), answers)"
      ]
    },
    {
      "cell_type": "code",
      "execution_count": null,
      "metadata": {
        "colab": {
          "base_uri": "https://localhost:8080/"
        },
        "id": "OTivr_qo6bSZ",
        "outputId": "8fa9f515-ee9b-4efd-d59d-ffeab0e2c7c7"
      },
      "outputs": [
        {
          "output_type": "execute_result",
          "data": {
            "text/plain": [
              "([({'input': True, 'user': True}, 'category')],\n",
              " ['input', 'user'],\n",
              " {'category': 'answer to give'})"
            ]
          },
          "metadata": {},
          "execution_count": 35
        }
      ],
      "source": [
        "extract_feature_from_doc([['this is the input text from the user','category','answer to give']])"
      ]
    },
    {
      "cell_type": "code",
      "execution_count": null,
      "metadata": {
        "id": "zgiTYS-A6bSZ"
      },
      "outputs": [],
      "source": [
        "def get_content(filename):\n",
        "    doc = os.path.join(filename)\n",
        "    with open(doc, 'r') as content_file:\n",
        "        lines = csv.reader(content_file,delimiter='|')\n",
        "        data = [x for x in lines if len(x) == 3]\n",
        "        return data"
      ]
    },
    {
      "cell_type": "code",
      "execution_count": null,
      "metadata": {
        "id": "x48GvDys6bSZ"
      },
      "outputs": [],
      "source": [
        "filename = 'leaves.txt'\n",
        "data = get_content(filename)"
      ]
    },
    {
      "cell_type": "code",
      "execution_count": null,
      "metadata": {
        "colab": {
          "base_uri": "https://localhost:8080/"
        },
        "id": "h73dQRkg6bSZ",
        "outputId": "6b9cec66-6a22-4610-8fa7-72a9e22f60a1"
      },
      "outputs": [
        {
          "output_type": "execute_result",
          "data": {
            "text/plain": [
              "[['Hello',\n",
              "  'Greetings',\n",
              "  'Hello. I am Dexter. I will serve your leave enquiries.'],\n",
              " ['hi hello',\n",
              "  'Greetings',\n",
              "  'Hello. I am Dexter. I will serve your leave enquiries.'],\n",
              " ['hi ',\n",
              "  'Greetings',\n",
              "  'Hello. I am Dexter. I will serve your leave enquiries.'],\n",
              " ['hi', 'Greetings', 'Hello. I am Dexter. I will serve your leave enquiries.'],\n",
              " ['hi', 'Greetings', 'Hello. I am Dexter. I will serve your leave enquiries.'],\n",
              " ['hey',\n",
              "  'Greetings',\n",
              "  'Hello. I am Dexter. I will serve your leave enquiries.'],\n",
              " ['hello, hi',\n",
              "  'Greetings',\n",
              "  'Hello. I am Dexter. I will serve your leave enquiries.'],\n",
              " ['hey',\n",
              "  'Greetings',\n",
              "  'Hello. I am Dexter. I will serve your leave enquiries.'],\n",
              " ['hey, hi',\n",
              "  'Greetings',\n",
              "  'Hello. I am Dexter. I will serve your leave enquiries.'],\n",
              " ['hey, hello',\n",
              "  'Greetings',\n",
              "  'Hello. I am Dexter. I will serve your leave enquiries.'],\n",
              " ['Good morning',\n",
              "  'Morning',\n",
              "  'Good Morning. I am Dexter. I will serve your leave enquiries.'],\n",
              " ['Good afternoon',\n",
              "  'Afternoon',\n",
              "  'Good afternoon. I am Dexter. I will serve your leave enquiries.'],\n",
              " ['Good evening',\n",
              "  'Evening',\n",
              "  'Good evening. I am Dexter. I will serve your leave enquiries.'],\n",
              " ['Good night', 'Goodbye', 'Good night. Take care.'],\n",
              " ['How are you today?', 'Opening', \"I'm fine! Thank you. How can I help you?\"],\n",
              " ['want help', 'Help', 'How can I help you?'],\n",
              " ['need help', 'Help', 'How can I help you?'],\n",
              " ['help me', 'Help', 'How can I help you?'],\n",
              " [\"I don't want your help.\",\n",
              "  'No-Help',\n",
              "  'Ok sir/madam. No problem. Have a nice day.'],\n",
              " [\"I don't want your assistance\",\n",
              "  'No-Help',\n",
              "  'Ok sir/madam. No problem. Have a nice day.'],\n",
              " ['No help required', 'No-Help', 'Ok sir/madam. No problem. Have a nice day.'],\n",
              " ['It has been great talking to you.',\n",
              "  'Closing',\n",
              "  \"It's glad to know that I have been helpful. Have a good day!\"],\n",
              " ['great',\n",
              "  'Closing',\n",
              "  \"It's glad to know that I have been helpful. Have a good day!\"],\n",
              " ['thank you for your help',\n",
              "  'Closing',\n",
              "  \"It's glad to know that I have been helpful. Have a good day!\"],\n",
              " ['thank you',\n",
              "  'Closing',\n",
              "  \"It's glad to know that I have been helpful. Have a good day!\"],\n",
              " ['thank you very much',\n",
              "  'Closing',\n",
              "  \"It's glad to know that I have been helpful. Have a good day!\"],\n",
              " ['thanks.',\n",
              "  'Closing',\n",
              "  \"You're welcome!It's glad to know that I have been helpful. Have a good day!\"],\n",
              " ['thanks very much',\n",
              "  'Closing',\n",
              "  \"It's glad to know that I have been helpful. Have a good day!\"],\n",
              " ['How many types of leaves are there?',\n",
              "  'Leaves-Type',\n",
              "  'Currently I know about two: annual and optional leaves.'],\n",
              " ['types of leaves?',\n",
              "  'Leaves-Type',\n",
              "  'Currently I know about two: annual and optional leaves.'],\n",
              " ['type leaves?',\n",
              "  'Leaves-Type',\n",
              "  'Currently I know about two: annual and optional leaves.'],\n",
              " ['leave type?',\n",
              "  'Leaves-Type',\n",
              "  'Currently I know about two: annual and optional leaves.'],\n",
              " ['leaves type?',\n",
              "  'Leaves-Type',\n",
              "  'Currently I know about two: annual and optional leaves.'],\n",
              " ['How many leaves have I taken?',\n",
              "  'Default-Utilized-Annual-Leaves',\n",
              "  'You have used 12 annual leaves.'],\n",
              " ['How many leaves I have already taken?',\n",
              "  'Default-Utilized-Annual-Leaves',\n",
              "  'You have used 12 annual leaves.'],\n",
              " ['how many annual leaves I took?',\n",
              "  'Utilized-Annual-Leaves',\n",
              "  'You have taken 12 annual leaves.'],\n",
              " ['How many annual leaves have I taken?',\n",
              "  'Utilized-Annual-Leaves',\n",
              "  'You have taken 12 annual leaves.'],\n",
              " ['How many annual leaves I have already taken?',\n",
              "  'Utilized-Annual-Leaves',\n",
              "  'You have taken 12 annual leaves.'],\n",
              " ['Tell me the annual leaves count I have taken?',\n",
              "  'Utilized-Annual-Leaves',\n",
              "  'You have taken 12 annual leaves.'],\n",
              " ['How many annual leaves have I taken?',\n",
              "  'Utilized-Annual-Leaves',\n",
              "  'You have taken 12 annual leaves.'],\n",
              " ['number of annual leaves taken?',\n",
              "  'Utilized-Annual-Leaves',\n",
              "  'You have taken 12 annual leaves.'],\n",
              " ['annual leaves taken?',\n",
              "  'Utilized-Annual-Leaves',\n",
              "  'You have taken 12 annual leaves.'],\n",
              " ['number of annual leaves already taken?',\n",
              "  'Utilized-Annual-Leaves',\n",
              "  'You have taken 12 annual leaves.'],\n",
              " ['annual leaves taken?',\n",
              "  'Utilized-Annual-Leaves',\n",
              "  'You have taken 12 annual leaves.'],\n",
              " ['annual leaves already taken?',\n",
              "  'Utilized-Annual-Leaves',\n",
              "  'You have taken 12 annual leaves.'],\n",
              " ['Tell me number of annual leaves I have taken',\n",
              "  'Utilized-Annual-Leaves',\n",
              "  'You have taken 12 annual leaves.'],\n",
              " ['number of annual leaves used?',\n",
              "  'Utilized-Annual-Leaves',\n",
              "  'You have taken 12 annual leaves.'],\n",
              " ['my taken annual leaves',\n",
              "  'Utilized-Annual-Leaves',\n",
              "  'You have taken 12 annual leaves.'],\n",
              " ['annual leaves used?',\n",
              "  'Utilized-Annual-Leaves',\n",
              "  'You have taken 12 annual leaves.'],\n",
              " ['How many optional leaves have I taken',\n",
              "  'Utilized-Optional-Leaves',\n",
              "  'You have taken 1 optional leaves.'],\n",
              " ['How many optional leaves I took',\n",
              "  'Utilized-Optional-Leaves',\n",
              "  'You have taken 1 optional leaves.'],\n",
              " ['optional leaves taken',\n",
              "  'Utilized-Optional-Leaves',\n",
              "  'You have taken 1 optional leaves.'],\n",
              " ['number of optional leaves I have taken?',\n",
              "  'Utilized-Optional-Leaves',\n",
              "  'You have taken 1 optional leaves.'],\n",
              " ['tell me the optional leaves count I have taken',\n",
              "  'Utilized-Optional-Leaves',\n",
              "  'You have taken 1 optional leaves.'],\n",
              " ['tell me number of optional leaves I have taken',\n",
              "  'Utilized-Optional-Leaves',\n",
              "  'You have taken 1 optional leaves.'],\n",
              " ['can you tell me number of optional leaves I have taken',\n",
              "  'Utilized-Optional-Leaves',\n",
              "  'You have taken 1 optional leaves.'],\n",
              " ['please tell me number of optional leaves I have taken',\n",
              "  'Utilized-Optional-Leaves',\n",
              "  'You have taken 1 optional leaves.'],\n",
              " ['How many optional leaves have I taken?',\n",
              "  'Utilized-Optional-Leaves',\n",
              "  'You have taken 1 optional leaves.'],\n",
              " ['number of optional leaves taken?',\n",
              "  'Utilized-Optional-Leaves',\n",
              "  'You have taken 1 optional leaves.'],\n",
              " ['number of optional leaves already taken?',\n",
              "  'Utilized-Optional-Leaves',\n",
              "  'You have taken 1 optional leaves.'],\n",
              " ['optional leaves taken?',\n",
              "  'Utilized-Optional-Leaves',\n",
              "  'You have taken 1 optional leaves.'],\n",
              " ['optional leaves already taken?',\n",
              "  'Utilized-Optional-Leaves',\n",
              "  'You have taken 1 optional leaves.'],\n",
              " ['please tell me number of optional leaves I have used.',\n",
              "  'Utilized-Optional-Leaves',\n",
              "  'You have taken 1 optional leaves.'],\n",
              " ['please tell me number of optional leaves I have used',\n",
              "  'Utilized-Optional-Leaves',\n",
              "  'You have taken 1 optional leaves.'],\n",
              " ['tell me the optional leaves count I have used.',\n",
              "  'Utilized-Optional-Leaves',\n",
              "  'You have taken 1 optional leaves.'],\n",
              " ['tell me the optional leaves count I have used',\n",
              "  'Utilized-Optional-Leaves',\n",
              "  'You have taken 1 optional leaves.'],\n",
              " ['the optional leaves count I have used',\n",
              "  'Utilized-Optional-Leaves',\n",
              "  'You have taken 1 optional leaves.'],\n",
              " ['the optional leaves count I have used?',\n",
              "  'Utilized-Optional-Leaves',\n",
              "  'You have taken 1 optional leaves.'],\n",
              " ['tell me the optional leaves count I have taken',\n",
              "  'Utilized-Optional-Leaves',\n",
              "  'You have taken 1 optional leaves.'],\n",
              " ['tell me the optional leaves count I have taken',\n",
              "  'Utilized-Optional-Leaves',\n",
              "  'You have taken 1 optional leaves.'],\n",
              " ['tell me the optional leaves count I have taken',\n",
              "  'Utilized-Optional-Leaves',\n",
              "  'You have taken 1 optional leaves.'],\n",
              " ['How many optional leaves have I used',\n",
              "  'Utilized-Optional-Leaves',\n",
              "  'You have taken 1 optional leaves.'],\n",
              " ['How many optional leaves have I used?',\n",
              "  'Utilized-Optional-Leaves',\n",
              "  'You have taken 1 optional leaves.'],\n",
              " ['number of optional leaves used?',\n",
              "  'Utilized-Optional-Leaves',\n",
              "  'You have taken 1 optional leaves.'],\n",
              " ['optional leaves used?',\n",
              "  'Utilized-Optional-Leaves',\n",
              "  'You have taken 1 optional leaves.'],\n",
              " ['How many leaves do I have?',\n",
              "  'Default-Balance-Annual-Leaves',\n",
              "  'You have 25 annual leaves left.'],\n",
              " ['How many leaves can I take?',\n",
              "  'Default-Balance-Annual-Leaves',\n",
              "  'You have 25 annual leaves left.'],\n",
              " ['How many leaves are remaining?',\n",
              "  'Default-Balance-Annual-Leaves',\n",
              "  'You have 25 annual leaves left.'],\n",
              " ['remaining leaves.',\n",
              "  'Default-Balance-Annual-Leaves',\n",
              "  'You have 25 annual leaves left.'],\n",
              " ['What are my leaves?',\n",
              "  'Default-Balance-Annual-Leaves',\n",
              "  'You have 25 annual leaves left.'],\n",
              " ['Tell me my leave balance.',\n",
              "  'Default-Balance-Annual-Leaves',\n",
              "  'You have 25 annual leaves left.'],\n",
              " ['my remaining leaves.',\n",
              "  'Default-Balance-Annual-Leaves',\n",
              "  'You have 25 annual leaves left.'],\n",
              " ['leave balance.',\n",
              "  'Default-Balance-Annual-Leaves',\n",
              "  'You have 25 annual leaves left.'],\n",
              " ['leaves pending.',\n",
              "  'Default-Balance-Annual-Leaves',\n",
              "  'You have 25 annual leaves left.'],\n",
              " ['tell me the annual leaves count I have remaining',\n",
              "  'Balance-Annual-Leaves',\n",
              "  'You have 25 annual leaves remaining.'],\n",
              " ['How many annual leaves do I have?',\n",
              "  'Balance-Annual-Leaves',\n",
              "  'You have 25 annual leaves remaining.'],\n",
              " ['What are my annual leaves?',\n",
              "  'Balance-Annual-Leaves',\n",
              "  'You have 25 annual leaves remaining.'],\n",
              " ['What is my annual leave balance?',\n",
              "  'Balance-Annual-Leaves',\n",
              "  'You have 25 annual leaves remaining.'],\n",
              " ['Tell me my annual leaves.',\n",
              "  'Balance-Annual-Leaves',\n",
              "  'You have 25 annual leaves remaining.'],\n",
              " ['How many annual leaves are remaining?',\n",
              "  'Balance-Annual-Leaves',\n",
              "  'You have 25 annual leaves remaining.'],\n",
              " ['Tell me my annual leaves remaining',\n",
              "  'Balance-Annual-Leaves',\n",
              "  'You have 25 annual leaves remaining.'],\n",
              " ['remaining annual leaves.',\n",
              "  'Balance-Annual-Leaves',\n",
              "  'You have 25 annual leaves remaining.'],\n",
              " ['annual leaves remaining.',\n",
              "  'Balance-Annual-Leaves',\n",
              "  'You have 25 annual leaves remaining.'],\n",
              " ['number of annual leaves remaining.',\n",
              "  'Balance-Annual-Leaves',\n",
              "  'You have 25 annual leaves remaining.'],\n",
              " ['number of annual leaves I have?',\n",
              "  'Balance-Annual-Leaves',\n",
              "  'You have 25 annual leaves remaining.'],\n",
              " ['annual leaves remaining.',\n",
              "  'Balance-Annual-Leaves',\n",
              "  'You have 25 annual leaves remaining.'],\n",
              " ['Please tell me the annual leaves count I have remaining.',\n",
              "  'Balance-Annual-Leaves',\n",
              "  'You have 25 annual leaves remaining.'],\n",
              " ['Tell me the annual leaves count I have remaining.',\n",
              "  'Balance-Annual-Leaves',\n",
              "  'You have 25 annual leaves remaining.'],\n",
              " ['the annual leaves count I have remaining.',\n",
              "  'Balance-Annual-Leaves',\n",
              "  'You have 25 annual leaves remaining.'],\n",
              " ['my annual leaves count remaining.',\n",
              "  'Balance-Annual-Leaves',\n",
              "  'You have 25 annual leaves remaining.'],\n",
              " ['Tell me my annual leave balance.',\n",
              "  'Balance-Annual-Leaves',\n",
              "  'You have 25 annual leaves remaining.'],\n",
              " ['annual leave balance.',\n",
              "  'Balance-Annual-Leaves',\n",
              "  'You have 25 annual leaves remaining.'],\n",
              " ['annual leaves.',\n",
              "  'Balance-Annual-Leaves',\n",
              "  'You have 25 annual leaves remaining.'],\n",
              " ['can you tell me number of annual leaves I have remaining',\n",
              "  'Balance-Annual-Leaves',\n",
              "  'You have 25 annual leaves remaining.'],\n",
              " ['please tell me number of annual leaves I have remaining',\n",
              "  'Balance-Annual-Leaves',\n",
              "  'You have 25 annual leaves remaining.'],\n",
              " ['How many optional leaves are remaining?',\n",
              "  'Balance-Optional-Leaves',\n",
              "  'You have 2 optional leaves remaining.'],\n",
              " ['optional leaves remaining?',\n",
              "  'Balance-Optional-Leaves',\n",
              "  'You have 2 optional leaves remaining.'],\n",
              " ['number of optional leaves I have remaining?',\n",
              "  'Balance-Optional-Leaves',\n",
              "  'You have 2 optional leaves remaining.'],\n",
              " ['How many optional leaves do I have?',\n",
              "  'Balance-Optional-Leaves',\n",
              "  'You have 2 optional leaves remaining.'],\n",
              " ['How many optional leaves do I have',\n",
              "  'Balance-Optional-Leaves',\n",
              "  'You have 2 optional leaves remaining.'],\n",
              " ['Tell me my optional leave balance?',\n",
              "  'Balance-Optional-Leaves',\n",
              "  'You have 2 optional leaves remaining.'],\n",
              " ['Tell me my optional leaves left?',\n",
              "  'Balance-Optional-Leaves',\n",
              "  'You have 2 optional leaves remaining.'],\n",
              " ['How many optional leaves can I take?',\n",
              "  'Balance-Optional-Leaves',\n",
              "  'You have 2 optional leaves remaining.'],\n",
              " ['optional leaves take?',\n",
              "  'Balance-Optional-Leaves',\n",
              "  'You have 2 optional leaves remaining.'],\n",
              " ['How many optional leaves I have?',\n",
              "  'Balance-Optional-Leaves',\n",
              "  'You have 2 optional leaves remaining.'],\n",
              " ['Tell me my optional leave balance.',\n",
              "  'Balance-Optional-Leaves',\n",
              "  'You have 2 optional leaves remaining.'],\n",
              " ['tell me the optional leaves count I have remaining',\n",
              "  'Balance-Optional-Leaves',\n",
              "  'You have 2 optional leaves remaining.'],\n",
              " ['optional leaves.',\n",
              "  'Balance-Optional-Leaves',\n",
              "  'You have 2 optional leaves remaining.'],\n",
              " ['optional leaves?',\n",
              "  'Balance-Optional-Leaves',\n",
              "  'You have 2 optional leaves remaining.'],\n",
              " ['optional leave balance',\n",
              "  'Balance-Optional-Leaves',\n",
              "  'You have 2 optional leaves remaining.'],\n",
              " ['optional',\n",
              "  'Balance-Optional-Leaves',\n",
              "  'You have 2 optional leaves remaining.'],\n",
              " ['Tell me the optional leaves count I have remaining.',\n",
              "  'Balance-Optional-Leaves',\n",
              "  'You have 2 optional leaves remaining.'],\n",
              " ['the optional leaves count I have remaining?',\n",
              "  'Balance-Optional-Leaves',\n",
              "  'You have 2 optional leaves remaining.'],\n",
              " ['my optional leaves count remaining.',\n",
              "  'Balance-Optional-Leaves',\n",
              "  'You have 2 optional leaves remaining.'],\n",
              " ['please tell me number of optional leaves I have remaining',\n",
              "  'Balance-Optional-Leaves',\n",
              "  'You have 2 optional leaves remaining.'],\n",
              " ['please tell me number of optional leaves I have remaining.',\n",
              "  'Balance-Optional-Leaves',\n",
              "  'You have 2 optional leaves remaining.'],\n",
              " ['number of optional leaves I have remaining.',\n",
              "  'Balance-Optional-Leaves',\n",
              "  'You have 2 optional leaves remaining.'],\n",
              " ['number of optional leaves I have',\n",
              "  'Balance-Optional-Leaves',\n",
              "  'You have 2 optional leaves remaining.'],\n",
              " ['number of optional leaves?',\n",
              "  'Balance-Optional-Leaves',\n",
              "  'You have 2 optional leaves remaining.'],\n",
              " ['How many carry forward leaves do I have?',\n",
              "  'CF',\n",
              "  'You have 30 carry forward leaves.'],\n",
              " ['number of carry forward leaves I have?',\n",
              "  'CF',\n",
              "  'You have 30 carry forward leaves.'],\n",
              " ['tell me the carry forward leaves count I have',\n",
              "  'CF',\n",
              "  'You have 30 carry forward leaves.'],\n",
              " ['tell me number of carry forward leaves I have',\n",
              "  'CF',\n",
              "  'You have 30 carry forward leaves.'],\n",
              " ['can you tell me number of carry forward leaves I have',\n",
              "  'CF',\n",
              "  'You have 30 carry forward leaves.'],\n",
              " ['please tell me number of carry forward leaves I have',\n",
              "  'CF',\n",
              "  'You have 30 carry forward leaves.'],\n",
              " ['How many carry forwards do I have from previous year?',\n",
              "  'CF',\n",
              "  'You have 30 carry forward leaves.'],\n",
              " ['Tell me my carry forward leaves from previous year',\n",
              "  'CF',\n",
              "  'You have 30 carry forward leaves.'],\n",
              " ['Tell me my carry forward leaves',\n",
              "  'CF',\n",
              "  'You have 30 carry forward leaves.'],\n",
              " ['Tell me carry forward leaves', 'CF', 'You have 30 carry forward leaves.'],\n",
              " ['carry forward leaves', 'CF', 'You have 30 carry forward leaves.'],\n",
              " ['carry forward leave', 'CF', 'You have 30 carry forward leaves.'],\n",
              " ['carry forward', 'CF', 'You have 30 carry forward leaves.'],\n",
              " ['previous year carry forward leaves',\n",
              "  'CF',\n",
              "  'You have 30 carry forward leaves.']]"
            ]
          },
          "metadata": {},
          "execution_count": 40
        }
      ],
      "source": [
        "data"
      ]
    },
    {
      "cell_type": "code",
      "execution_count": null,
      "metadata": {
        "id": "dh3KoZ8i6bSZ"
      },
      "outputs": [],
      "source": [
        "features_data, corpus, answers = extract_feature_from_doc(data)"
      ]
    },
    {
      "cell_type": "code",
      "execution_count": null,
      "metadata": {
        "colab": {
          "base_uri": "https://localhost:8080/"
        },
        "id": "BDcvs7026bSZ",
        "outputId": "31106a84-0647-4bf0-c772-7dbec35ff131"
      },
      "outputs": [
        {
          "output_type": "stream",
          "name": "stdout",
          "text": [
            "({'mani': True, 'option': True, 'leav': True}, 'Utilized-Optional-Leaves')\n"
          ]
        }
      ],
      "source": [
        "print(features_data[50])"
      ]
    },
    {
      "cell_type": "code",
      "execution_count": null,
      "metadata": {
        "colab": {
          "base_uri": "https://localhost:8080/"
        },
        "id": "r_PTHY8z6bSa",
        "outputId": "a4a78416-a259-4563-d556-4fc2df8b9e7f"
      },
      "outputs": [
        {
          "output_type": "execute_result",
          "data": {
            "text/plain": [
              "['hello',\n",
              " 'hi',\n",
              " 'hello',\n",
              " 'hi',\n",
              " 'hi',\n",
              " 'hi',\n",
              " 'hey',\n",
              " 'hello',\n",
              " 'hi',\n",
              " 'hey',\n",
              " 'hey',\n",
              " 'hi',\n",
              " 'hey',\n",
              " 'hello',\n",
              " 'good',\n",
              " 'morn',\n",
              " 'good',\n",
              " 'afternoon',\n",
              " 'good',\n",
              " 'even',\n",
              " 'good',\n",
              " 'night',\n",
              " 'today',\n",
              " 'want',\n",
              " 'help',\n",
              " 'need',\n",
              " 'help',\n",
              " 'help',\n",
              " 'want',\n",
              " 'help',\n",
              " 'want',\n",
              " 'assist',\n",
              " 'help',\n",
              " 'great',\n",
              " 'talk',\n",
              " 'great',\n",
              " 'thank',\n",
              " 'help',\n",
              " 'thank',\n",
              " 'thank',\n",
              " 'much',\n",
              " 'thank',\n",
              " 'thank',\n",
              " 'much',\n",
              " 'mani',\n",
              " 'type',\n",
              " 'leav',\n",
              " 'type',\n",
              " 'leav',\n",
              " 'type',\n",
              " 'leav',\n",
              " 'type',\n",
              " 'leav',\n",
              " 'type',\n",
              " 'mani',\n",
              " 'leav',\n",
              " 'taken',\n",
              " 'mani',\n",
              " 'leav',\n",
              " 'alreadi',\n",
              " 'taken',\n",
              " 'mani',\n",
              " 'annual',\n",
              " 'leav',\n",
              " 'mani',\n",
              " 'annual',\n",
              " 'leav',\n",
              " 'taken',\n",
              " 'mani',\n",
              " 'annual',\n",
              " 'leav',\n",
              " 'alreadi',\n",
              " 'taken',\n",
              " 'annual',\n",
              " 'leav',\n",
              " 'count',\n",
              " 'taken',\n",
              " 'mani',\n",
              " 'annual',\n",
              " 'leav',\n",
              " 'taken',\n",
              " 'number',\n",
              " 'annual',\n",
              " 'leav',\n",
              " 'taken',\n",
              " 'annual',\n",
              " 'leav',\n",
              " 'taken',\n",
              " 'number',\n",
              " 'annual',\n",
              " 'leav',\n",
              " 'alreadi',\n",
              " 'taken',\n",
              " 'annual',\n",
              " 'leav',\n",
              " 'taken',\n",
              " 'annual',\n",
              " 'leav',\n",
              " 'alreadi',\n",
              " 'taken',\n",
              " 'number',\n",
              " 'annual',\n",
              " 'leav',\n",
              " 'taken',\n",
              " 'number',\n",
              " 'annual',\n",
              " 'leav',\n",
              " 'taken',\n",
              " 'annual',\n",
              " 'leav',\n",
              " 'annual',\n",
              " 'leav',\n",
              " 'mani',\n",
              " 'option',\n",
              " 'leav',\n",
              " 'taken',\n",
              " 'mani',\n",
              " 'option',\n",
              " 'leav',\n",
              " 'option',\n",
              " 'leav',\n",
              " 'taken',\n",
              " 'number',\n",
              " 'option',\n",
              " 'leav',\n",
              " 'taken',\n",
              " 'option',\n",
              " 'leav',\n",
              " 'count',\n",
              " 'taken',\n",
              " 'number',\n",
              " 'option',\n",
              " 'leav',\n",
              " 'taken',\n",
              " 'number',\n",
              " 'option',\n",
              " 'leav',\n",
              " 'taken',\n",
              " 'number',\n",
              " 'option',\n",
              " 'leav',\n",
              " 'taken',\n",
              " 'mani',\n",
              " 'option',\n",
              " 'leav',\n",
              " 'taken',\n",
              " 'number',\n",
              " 'option',\n",
              " 'leav',\n",
              " 'taken',\n",
              " 'number',\n",
              " 'option',\n",
              " 'leav',\n",
              " 'alreadi',\n",
              " 'taken',\n",
              " 'option',\n",
              " 'leav',\n",
              " 'taken',\n",
              " 'option',\n",
              " 'leav',\n",
              " 'alreadi',\n",
              " 'taken',\n",
              " 'number',\n",
              " 'option',\n",
              " 'leav',\n",
              " 'number',\n",
              " 'option',\n",
              " 'leav',\n",
              " 'option',\n",
              " 'leav',\n",
              " 'count',\n",
              " 'use',\n",
              " 'option',\n",
              " 'leav',\n",
              " 'count',\n",
              " 'use',\n",
              " 'option',\n",
              " 'leav',\n",
              " 'count',\n",
              " 'use',\n",
              " 'option',\n",
              " 'leav',\n",
              " 'count',\n",
              " 'use',\n",
              " 'option',\n",
              " 'leav',\n",
              " 'count',\n",
              " 'taken',\n",
              " 'option',\n",
              " 'leav',\n",
              " 'count',\n",
              " 'taken',\n",
              " 'option',\n",
              " 'leav',\n",
              " 'count',\n",
              " 'taken',\n",
              " 'mani',\n",
              " 'option',\n",
              " 'leav',\n",
              " 'mani',\n",
              " 'option',\n",
              " 'leav',\n",
              " 'number',\n",
              " 'option',\n",
              " 'leav',\n",
              " 'option',\n",
              " 'leav',\n",
              " 'mani',\n",
              " 'leav',\n",
              " 'mani',\n",
              " 'leav',\n",
              " 'take',\n",
              " 'mani',\n",
              " 'leav',\n",
              " 'remain',\n",
              " 'remain',\n",
              " 'leav',\n",
              " 'leav',\n",
              " 'tell',\n",
              " 'leav',\n",
              " 'balanc',\n",
              " 'remain',\n",
              " 'leav',\n",
              " 'leav',\n",
              " 'balanc',\n",
              " 'leav',\n",
              " 'pend',\n",
              " 'annual',\n",
              " 'leav',\n",
              " 'count',\n",
              " 'remain',\n",
              " 'mani',\n",
              " 'annual',\n",
              " 'leav',\n",
              " 'annual',\n",
              " 'leav',\n",
              " 'annual',\n",
              " 'leav',\n",
              " 'balanc',\n",
              " 'annual',\n",
              " 'leav',\n",
              " 'mani',\n",
              " 'annual',\n",
              " 'leav',\n",
              " 'remain',\n",
              " 'annual',\n",
              " 'leav',\n",
              " 'remain',\n",
              " 'remain',\n",
              " 'annual',\n",
              " 'leav',\n",
              " 'annual',\n",
              " 'leav',\n",
              " 'remain',\n",
              " 'number',\n",
              " 'annual',\n",
              " 'leav',\n",
              " 'remain',\n",
              " 'number',\n",
              " 'annual',\n",
              " 'leav',\n",
              " 'annual',\n",
              " 'leav',\n",
              " 'remain',\n",
              " 'annual',\n",
              " 'leav',\n",
              " 'count',\n",
              " 'remain',\n",
              " 'annual',\n",
              " 'leav',\n",
              " 'count',\n",
              " 'remain',\n",
              " 'annual',\n",
              " 'leav',\n",
              " 'count',\n",
              " 'remain',\n",
              " 'annual',\n",
              " 'leav',\n",
              " 'count',\n",
              " 'remain',\n",
              " 'annual',\n",
              " 'leav',\n",
              " 'balanc',\n",
              " 'annual',\n",
              " 'leav',\n",
              " 'balanc',\n",
              " 'annual',\n",
              " 'leav',\n",
              " 'number',\n",
              " 'annual',\n",
              " 'leav',\n",
              " 'remain',\n",
              " 'number',\n",
              " 'annual',\n",
              " 'leav',\n",
              " 'remain',\n",
              " 'mani',\n",
              " 'option',\n",
              " 'leav',\n",
              " 'remain',\n",
              " 'option',\n",
              " 'leav',\n",
              " 'remain',\n",
              " 'number',\n",
              " 'option',\n",
              " 'leav',\n",
              " 'remain',\n",
              " 'mani',\n",
              " 'option',\n",
              " 'leav',\n",
              " 'mani',\n",
              " 'option',\n",
              " 'leav',\n",
              " 'option',\n",
              " 'leav',\n",
              " 'balanc',\n",
              " 'option',\n",
              " 'leav',\n",
              " 'mani',\n",
              " 'option',\n",
              " 'leav',\n",
              " 'take',\n",
              " 'option',\n",
              " 'leav',\n",
              " 'take',\n",
              " 'mani',\n",
              " 'option',\n",
              " 'leav',\n",
              " 'option',\n",
              " 'leav',\n",
              " 'balanc',\n",
              " 'option',\n",
              " 'leav',\n",
              " 'count',\n",
              " 'remain',\n",
              " 'option',\n",
              " 'leav',\n",
              " 'option',\n",
              " 'leav',\n",
              " 'option',\n",
              " 'leav',\n",
              " 'balanc',\n",
              " 'option',\n",
              " 'option',\n",
              " 'leav',\n",
              " 'count',\n",
              " 'remain',\n",
              " 'option',\n",
              " 'leav',\n",
              " 'count',\n",
              " 'remain',\n",
              " 'option',\n",
              " 'leav',\n",
              " 'count',\n",
              " 'remain',\n",
              " 'number',\n",
              " 'option',\n",
              " 'leav',\n",
              " 'remain',\n",
              " 'number',\n",
              " 'option',\n",
              " 'leav',\n",
              " 'remain',\n",
              " 'number',\n",
              " 'option',\n",
              " 'leav',\n",
              " 'remain',\n",
              " 'number',\n",
              " 'option',\n",
              " 'leav',\n",
              " 'number',\n",
              " 'option',\n",
              " 'leav',\n",
              " 'mani',\n",
              " 'carri',\n",
              " 'forward',\n",
              " 'leav',\n",
              " 'number',\n",
              " 'carri',\n",
              " 'forward',\n",
              " 'leav',\n",
              " 'tell',\n",
              " 'carri',\n",
              " 'forward',\n",
              " 'leav',\n",
              " 'count',\n",
              " 'number',\n",
              " 'forward',\n",
              " 'leav',\n",
              " 'number',\n",
              " 'forward',\n",
              " 'leav',\n",
              " 'number',\n",
              " 'forward',\n",
              " 'leav',\n",
              " 'mani',\n",
              " 'carri',\n",
              " 'forward',\n",
              " 'previous',\n",
              " 'year',\n",
              " 'tell',\n",
              " 'carri',\n",
              " 'forward',\n",
              " 'leav',\n",
              " 'previous',\n",
              " 'year',\n",
              " 'tell',\n",
              " 'carri',\n",
              " 'forward',\n",
              " 'leav',\n",
              " 'tell',\n",
              " 'carri',\n",
              " 'forward',\n",
              " 'leav',\n",
              " 'forward',\n",
              " 'leav',\n",
              " 'carri',\n",
              " 'forward',\n",
              " 'leav',\n",
              " 'carri',\n",
              " 'forward',\n",
              " 'previous',\n",
              " 'year',\n",
              " 'carri',\n",
              " 'forward',\n",
              " 'leav']"
            ]
          },
          "metadata": {},
          "execution_count": 43
        }
      ],
      "source": [
        "corpus"
      ]
    },
    {
      "cell_type": "code",
      "execution_count": null,
      "metadata": {
        "colab": {
          "base_uri": "https://localhost:8080/"
        },
        "id": "1ISf3TAb6bSa",
        "outputId": "4121babb-ef6d-4b12-f6a4-7de5ac3b209b"
      },
      "outputs": [
        {
          "output_type": "execute_result",
          "data": {
            "text/plain": [
              "{'Greetings': 'Hello. I am Dexter. I will serve your leave enquiries.',\n",
              " 'Morning': 'Good Morning. I am Dexter. I will serve your leave enquiries.',\n",
              " 'Afternoon': 'Good afternoon. I am Dexter. I will serve your leave enquiries.',\n",
              " 'Evening': 'Good evening. I am Dexter. I will serve your leave enquiries.',\n",
              " 'Goodbye': 'Good night. Take care.',\n",
              " 'Opening': \"I'm fine! Thank you. How can I help you?\",\n",
              " 'Help': 'How can I help you?',\n",
              " 'No-Help': 'Ok sir/madam. No problem. Have a nice day.',\n",
              " 'Closing': \"It's glad to know that I have been helpful. Have a good day!\",\n",
              " 'Leaves-Type': 'Currently I know about two: annual and optional leaves.',\n",
              " 'Default-Utilized-Annual-Leaves': 'You have used 12 annual leaves.',\n",
              " 'Utilized-Annual-Leaves': 'You have taken 12 annual leaves.',\n",
              " 'Utilized-Optional-Leaves': 'You have taken 1 optional leaves.',\n",
              " 'Default-Balance-Annual-Leaves': 'You have 25 annual leaves left.',\n",
              " 'Balance-Annual-Leaves': 'You have 25 annual leaves remaining.',\n",
              " 'Balance-Optional-Leaves': 'You have 2 optional leaves remaining.',\n",
              " 'CF': 'You have 30 carry forward leaves.'}"
            ]
          },
          "metadata": {},
          "execution_count": 44
        }
      ],
      "source": [
        "answers"
      ]
    },
    {
      "cell_type": "markdown",
      "metadata": {
        "id": "0RKTNGbp6bSa"
      },
      "source": [
        "# Train a model using these fetures"
      ]
    },
    {
      "cell_type": "code",
      "execution_count": null,
      "metadata": {
        "id": "mjVHyug36bSa"
      },
      "outputs": [],
      "source": [
        "## split data into train and test sets\n",
        "split_ratio = 0.8"
      ]
    },
    {
      "cell_type": "code",
      "execution_count": null,
      "metadata": {
        "id": "8iDB7AlG6bSa"
      },
      "outputs": [],
      "source": [
        "def split_dataset(data, split_ratio):\n",
        "    random.shuffle(data)\n",
        "    data_length = len(data)\n",
        "    train_split = int(data_length * split_ratio)\n",
        "    return (data[:train_split]), (data[train_split:])"
      ]
    },
    {
      "cell_type": "code",
      "execution_count": null,
      "metadata": {
        "id": "m1sUBaIf6bSa"
      },
      "outputs": [],
      "source": [
        "training_data, test_data = split_dataset(features_data, split_ratio)"
      ]
    },
    {
      "cell_type": "code",
      "execution_count": null,
      "metadata": {
        "colab": {
          "base_uri": "https://localhost:8080/"
        },
        "id": "KyWK7sT16bSa",
        "outputId": "c6e8170d-64d7-480f-f78d-866d3b980ca8"
      },
      "outputs": [
        {
          "output_type": "execute_result",
          "data": {
            "text/plain": [
              "[({'option': True, 'leav': True}, 'Balance-Optional-Leaves'),\n",
              " ({'mani': True, 'option': True, 'leav': True}, 'Balance-Optional-Leaves'),\n",
              " ({'option': True, 'leav': True, 'count': True, 'taken': True},\n",
              "  'Utilized-Optional-Leaves'),\n",
              " ({'annual': True, 'leav': True}, 'Utilized-Annual-Leaves'),\n",
              " ({'number': True, 'option': True, 'leav': True}, 'Utilized-Optional-Leaves'),\n",
              " ({'great': True}, 'Closing'),\n",
              " ({'option': True, 'leav': True}, 'Balance-Optional-Leaves'),\n",
              " ({'annual': True, 'leav': True}, 'Balance-Annual-Leaves'),\n",
              " ({'remain': True, 'leav': True}, 'Default-Balance-Annual-Leaves'),\n",
              " ({'option': True, 'leav': True, 'take': True}, 'Balance-Optional-Leaves'),\n",
              " ({'mani': True, 'option': True, 'leav': True}, 'Utilized-Optional-Leaves'),\n",
              " ({'mani': True, 'option': True, 'leav': True}, 'Utilized-Optional-Leaves'),\n",
              " ({'option': True, 'leav': True, 'count': True, 'remain': True},\n",
              "  'Balance-Optional-Leaves'),\n",
              " ({'number': True, 'option': True, 'leav': True, 'remain': True},\n",
              "  'Balance-Optional-Leaves'),\n",
              " ({'carri': True, 'forward': True, 'leav': True}, 'CF'),\n",
              " ({'taken': True, 'annual': True, 'leav': True}, 'Utilized-Annual-Leaves'),\n",
              " ({'number': True,\n",
              "   'option': True,\n",
              "   'leav': True,\n",
              "   'alreadi': True,\n",
              "   'taken': True},\n",
              "  'Utilized-Optional-Leaves'),\n",
              " ({'mani': True, 'leav': True, 'taken': True},\n",
              "  'Default-Utilized-Annual-Leaves'),\n",
              " ({'number': True, 'annual': True, 'leav': True, 'remain': True},\n",
              "  'Balance-Annual-Leaves'),\n",
              " ({'mani': True, 'option': True, 'leav': True}, 'Balance-Optional-Leaves'),\n",
              " ({'carri': True, 'forward': True}, 'CF'),\n",
              " ({'annual': True, 'leav': True, 'alreadi': True, 'taken': True},\n",
              "  'Utilized-Annual-Leaves'),\n",
              " ({'number': True, 'option': True, 'leav': True}, 'Utilized-Optional-Leaves'),\n",
              " ({'want': True, 'assist': True}, 'No-Help'),\n",
              " ({'thank': True}, 'Closing'),\n",
              " ({'thank': True, 'much': True}, 'Closing'),\n",
              " ({'tell': True, 'carri': True, 'forward': True, 'leav': True, 'count': True},\n",
              "  'CF'),\n",
              " ({'great': True, 'talk': True}, 'Closing'),\n",
              " ({'number': True, 'option': True, 'leav': True}, 'Balance-Optional-Leaves'),\n",
              " ({'previous': True,\n",
              "   'year': True,\n",
              "   'carri': True,\n",
              "   'forward': True,\n",
              "   'leav': True},\n",
              "  'CF'),\n",
              " ({'option': True, 'leav': True, 'alreadi': True, 'taken': True},\n",
              "  'Utilized-Optional-Leaves'),\n",
              " ({'good': True, 'morn': True}, 'Morning'),\n",
              " ({'thank': True}, 'Closing'),\n",
              " ({'number': True, 'option': True, 'leav': True, 'taken': True},\n",
              "  'Utilized-Optional-Leaves'),\n",
              " ({'option': True, 'leav': True, 'count': True, 'use': True},\n",
              "  'Utilized-Optional-Leaves'),\n",
              " ({'option': True}, 'Balance-Optional-Leaves'),\n",
              " ({'option': True, 'leav': True, 'count': True, 'use': True},\n",
              "  'Utilized-Optional-Leaves'),\n",
              " ({'number': True, 'annual': True, 'leav': True, 'taken': True},\n",
              "  'Utilized-Annual-Leaves'),\n",
              " ({'mani': True, 'annual': True, 'leav': True}, 'Utilized-Annual-Leaves'),\n",
              " ({'hello': True}, 'Greetings'),\n",
              " ({'option': True, 'leav': True, 'count': True, 'taken': True},\n",
              "  'Utilized-Optional-Leaves'),\n",
              " ({'need': True, 'help': True}, 'Help'),\n",
              " ({'want': True, 'help': True}, 'Help'),\n",
              " ({'mani': True, 'type': True, 'leav': True}, 'Leaves-Type'),\n",
              " ({'annual': True, 'leav': True, 'remain': True}, 'Balance-Annual-Leaves'),\n",
              " ({'leav': True, 'pend': True}, 'Default-Balance-Annual-Leaves'),\n",
              " ({'tell': True,\n",
              "   'carri': True,\n",
              "   'forward': True,\n",
              "   'leav': True,\n",
              "   'previous': True,\n",
              "   'year': True},\n",
              "  'CF'),\n",
              " ({'number': True, 'option': True, 'leav': True, 'taken': True},\n",
              "  'Utilized-Optional-Leaves'),\n",
              " ({'today': True}, 'Opening'),\n",
              " ({'mani': True, 'option': True, 'leav': True, 'take': True},\n",
              "  'Balance-Optional-Leaves'),\n",
              " ({'forward': True, 'leav': True}, 'CF'),\n",
              " ({'hello': True, 'hi': True}, 'Greetings'),\n",
              " ({'hey': True}, 'Greetings'),\n",
              " ({'annual': True, 'leav': True, 'remain': True}, 'Balance-Annual-Leaves'),\n",
              " ({'hey': True, 'hello': True}, 'Greetings'),\n",
              " ({'annual': True, 'leav': True, 'count': True, 'remain': True},\n",
              "  'Balance-Annual-Leaves'),\n",
              " ({'good': True, 'night': True}, 'Goodbye'),\n",
              " ({'good': True, 'afternoon': True}, 'Afternoon'),\n",
              " ({'mani': True, 'leav': True, 'take': True}, 'Default-Balance-Annual-Leaves'),\n",
              " ({'number': True, 'forward': True, 'leav': True}, 'CF'),\n",
              " ({'option': True, 'leav': True, 'count': True, 'taken': True},\n",
              "  'Utilized-Optional-Leaves'),\n",
              " ({'option': True, 'leav': True}, 'Utilized-Optional-Leaves'),\n",
              " ({'remain': True, 'leav': True}, 'Default-Balance-Annual-Leaves'),\n",
              " ({'hi': True}, 'Greetings'),\n",
              " ({'hey': True, 'hi': True}, 'Greetings'),\n",
              " ({'mani': True, 'leav': True, 'remain': True},\n",
              "  'Default-Balance-Annual-Leaves'),\n",
              " ({'annual': True, 'leav': True, 'balanc': True}, 'Balance-Annual-Leaves'),\n",
              " ({'annual': True, 'leav': True}, 'Balance-Annual-Leaves'),\n",
              " ({'annual': True, 'leav': True, 'count': True, 'remain': True},\n",
              "  'Balance-Annual-Leaves'),\n",
              " ({'number': True, 'annual': True, 'leav': True}, 'Balance-Annual-Leaves'),\n",
              " ({'option': True, 'leav': True, 'taken': True}, 'Utilized-Optional-Leaves'),\n",
              " ({'option': True, 'leav': True, 'count': True, 'use': True},\n",
              "  'Utilized-Optional-Leaves'),\n",
              " ({'number': True, 'carri': True, 'forward': True, 'leav': True}, 'CF'),\n",
              " ({'want': True, 'help': True}, 'No-Help'),\n",
              " ({'number': True, 'annual': True, 'leav': True, 'remain': True},\n",
              "  'Balance-Annual-Leaves'),\n",
              " ({'option': True, 'leav': True, 'count': True, 'remain': True},\n",
              "  'Balance-Optional-Leaves'),\n",
              " ({'mani': True, 'annual': True, 'leav': True, 'taken': True},\n",
              "  'Utilized-Annual-Leaves'),\n",
              " ({'hi': True}, 'Greetings'),\n",
              " ({'annual': True, 'leav': True}, 'Balance-Annual-Leaves'),\n",
              " ({'type': True}, 'Leaves-Type'),\n",
              " ({'type': True, 'leav': True}, 'Leaves-Type'),\n",
              " ({'annual': True, 'leav': True, 'taken': True}, 'Utilized-Annual-Leaves'),\n",
              " ({'annual': True, 'leav': True, 'balanc': True}, 'Balance-Annual-Leaves'),\n",
              " ({'mani': True, 'leav': True}, 'Default-Balance-Annual-Leaves'),\n",
              " ({'option': True, 'leav': True, 'balanc': True}, 'Balance-Optional-Leaves'),\n",
              " ({'option': True, 'leav': True, 'remain': True}, 'Balance-Optional-Leaves'),\n",
              " ({'leav': True}, 'Default-Balance-Annual-Leaves'),\n",
              " ({'number': True, 'annual': True, 'leav': True}, 'Utilized-Annual-Leaves'),\n",
              " ({'mani': True,\n",
              "   'carri': True,\n",
              "   'forward': True,\n",
              "   'previous': True,\n",
              "   'year': True},\n",
              "  'CF'),\n",
              " ({'thank': True, 'help': True}, 'Closing'),\n",
              " ({'help': True}, 'Help'),\n",
              " ({'number': True, 'option': True, 'leav': True, 'taken': True},\n",
              "  'Utilized-Optional-Leaves'),\n",
              " ({'mani': True, 'option': True, 'leav': True, 'taken': True},\n",
              "  'Utilized-Optional-Leaves'),\n",
              " ({'annual': True, 'leav': True, 'count': True, 'remain': True},\n",
              "  'Balance-Annual-Leaves'),\n",
              " ({'number': True, 'forward': True, 'leav': True}, 'CF'),\n",
              " ({'mani': True, 'leav': True, 'alreadi': True, 'taken': True},\n",
              "  'Default-Utilized-Annual-Leaves'),\n",
              " ({'leav': True, 'balanc': True}, 'Default-Balance-Annual-Leaves'),\n",
              " ({'number': True, 'option': True, 'leav': True, 'remain': True},\n",
              "  'Balance-Optional-Leaves'),\n",
              " ({'number': True,\n",
              "   'annual': True,\n",
              "   'leav': True,\n",
              "   'alreadi': True,\n",
              "   'taken': True},\n",
              "  'Utilized-Annual-Leaves'),\n",
              " ({'annual': True, 'leav': True, 'count': True, 'remain': True},\n",
              "  'Balance-Annual-Leaves'),\n",
              " ({'mani': True, 'option': True, 'leav': True, 'remain': True},\n",
              "  'Balance-Optional-Leaves'),\n",
              " ({'mani': True, 'annual': True, 'leav': True}, 'Balance-Annual-Leaves'),\n",
              " ({'annual': True, 'leav': True, 'balanc': True}, 'Balance-Annual-Leaves'),\n",
              " ({'help': True}, 'No-Help'),\n",
              " ({'number': True, 'annual': True, 'leav': True, 'taken': True},\n",
              "  'Utilized-Annual-Leaves'),\n",
              " ({'tell': True, 'carri': True, 'forward': True, 'leav': True}, 'CF'),\n",
              " ({'option': True, 'leav': True, 'count': True, 'remain': True},\n",
              "  'Balance-Optional-Leaves'),\n",
              " ({'hi': True}, 'Greetings'),\n",
              " ({'number': True, 'option': True, 'leav': True, 'remain': True},\n",
              "  'Balance-Optional-Leaves'),\n",
              " ({'number': True, 'forward': True, 'leav': True}, 'CF'),\n",
              " ({'thank': True, 'much': True}, 'Closing'),\n",
              " ({'type': True, 'leav': True}, 'Leaves-Type'),\n",
              " ({'number': True, 'option': True, 'leav': True}, 'Utilized-Optional-Leaves'),\n",
              " ({'number': True, 'option': True, 'leav': True, 'remain': True},\n",
              "  'Balance-Optional-Leaves')]"
            ]
          },
          "metadata": {},
          "execution_count": 48
        }
      ],
      "source": [
        "training_data"
      ]
    },
    {
      "cell_type": "code",
      "execution_count": null,
      "metadata": {
        "id": "Rp7zqcUh6bSa"
      },
      "outputs": [],
      "source": [
        "# save the data\n",
        "np.save('training_data', training_data)\n",
        "np.save('test_data', test_data)"
      ]
    },
    {
      "cell_type": "markdown",
      "metadata": {
        "id": "ysHnQc1I6bSa"
      },
      "source": [
        "## Classification using Decision tree"
      ]
    },
    {
      "cell_type": "code",
      "execution_count": null,
      "metadata": {
        "id": "SK3UUz_C6bSa"
      },
      "outputs": [],
      "source": [
        "training_data = np.load('training_data.npy', allow_pickle=True)\n",
        "test_data = np.load('test_data.npy' , allow_pickle=True)"
      ]
    },
    {
      "cell_type": "code",
      "execution_count": null,
      "metadata": {
        "id": "FsMG-dDC6bSb"
      },
      "outputs": [],
      "source": [
        "def train_using_decision_tree(training_data, test_data):\n",
        "    \n",
        "    classifier = nltk.classify.DecisionTreeClassifier.train(training_data, entropy_cutoff=0.6, support_cutoff=6)\n",
        "    classifier_name = type(classifier).__name__\n",
        "    training_set_accuracy = nltk.classify.accuracy(classifier, training_data)\n",
        "    print('training set accuracy: ', training_set_accuracy)\n",
        "    test_set_accuracy = nltk.classify.accuracy(classifier, test_data)\n",
        "    print('test set accuracy: ', test_set_accuracy)\n",
        "    return classifier, classifier_name, test_set_accuracy, training_set_accuracy"
      ]
    },
    {
      "cell_type": "code",
      "execution_count": null,
      "metadata": {
        "colab": {
          "base_uri": "https://localhost:8080/"
        },
        "id": "-wPRivUT6bSb",
        "outputId": "32f12006-3cf1-410b-f6bd-fb7beb9f7ca4"
      },
      "outputs": [
        {
          "output_type": "stream",
          "name": "stdout",
          "text": [
            "training set accuracy:  0.9035087719298246\n",
            "test set accuracy:  0.8620689655172413\n"
          ]
        }
      ],
      "source": [
        "dtclassifier, classifier_name, test_set_accuracy, training_set_accuracy = train_using_decision_tree(training_data, test_data)"
      ]
    },
    {
      "cell_type": "code",
      "execution_count": null,
      "metadata": {
        "id": "8aGsB_ce6bSb"
      },
      "outputs": [],
      "source": []
    },
    {
      "cell_type": "markdown",
      "metadata": {
        "id": "JuPmSGA-6bSb"
      },
      "source": [
        "## Classification using Naive Bayes"
      ]
    },
    {
      "cell_type": "code",
      "execution_count": null,
      "metadata": {
        "id": "RIFY87gj6bSb"
      },
      "outputs": [],
      "source": [
        "def train_using_naive_bayes(training_data, test_data):\n",
        "    classifier = nltk.NaiveBayesClassifier.train(training_data)\n",
        "    classifier_name = type(classifier).__name__\n",
        "    training_set_accuracy = nltk.classify.accuracy(classifier, training_data)\n",
        "    test_set_accuracy = nltk.classify.accuracy(classifier, test_data)\n",
        "    return classifier, classifier_name, test_set_accuracy, training_set_accuracy"
      ]
    },
    {
      "cell_type": "code",
      "execution_count": null,
      "metadata": {
        "colab": {
          "base_uri": "https://localhost:8080/"
        },
        "id": "A5yZZe_z6bSc",
        "outputId": "9a14657c-f004-48a2-8fa6-42876d9e4458"
      },
      "outputs": [
        {
          "output_type": "stream",
          "name": "stdout",
          "text": [
            "0.8333333333333334\n",
            "0.8275862068965517\n",
            "70\n",
            "Most Informative Features\n",
            "                    leav = None           Greeti : Balanc =     12.0 : 1.0\n",
            "                    mani = True           Defaul : Balanc =      9.4 : 1.0\n",
            "                    help = True             Help : Closin =      4.7 : 1.0\n",
            "                 alreadi = True           Defaul : Utiliz =      4.0 : 1.0\n",
            "                   thank = None           Utiliz : Closin =      3.1 : 1.0\n",
            "                   taken = None           Balanc : Utiliz =      3.1 : 1.0\n",
            "                   carri = None           Utiliz : CF     =      2.8 : 1.0\n",
            "                   count = True           Utiliz : CF     =      2.8 : 1.0\n",
            "                  balanc = True           Balanc : Balanc =      2.6 : 1.0\n",
            "                    help = None           Utiliz : No-Hel =      2.6 : 1.0\n"
          ]
        }
      ],
      "source": [
        "classifier, classifier_name, test_set_accuracy, training_set_accuracy = train_using_naive_bayes(training_data, test_data)\n",
        "print(training_set_accuracy)\n",
        "print(test_set_accuracy)\n",
        "print(len(classifier.most_informative_features()))\n",
        "classifier.show_most_informative_features()"
      ]
    },
    {
      "cell_type": "code",
      "execution_count": null,
      "metadata": {
        "colab": {
          "base_uri": "https://localhost:8080/",
          "height": 36
        },
        "id": "wV_Z1hf76bSc",
        "outputId": "9f4ba535-d957-4aa7-99a6-ef4e66ab063a"
      },
      "outputs": [
        {
          "output_type": "execute_result",
          "data": {
            "text/plain": [
              "'Balance-Optional-Leaves'"
            ],
            "application/vnd.google.colaboratory.intrinsic+json": {
              "type": "string"
            }
          },
          "metadata": {},
          "execution_count": 58
        }
      ],
      "source": [
        "classifier.classify(({'mani': True, 'option': True, 'leav': True}))"
      ]
    },
    {
      "cell_type": "code",
      "execution_count": null,
      "metadata": {
        "id": "xCVHB7lq6bSc"
      },
      "outputs": [],
      "source": []
    },
    {
      "cell_type": "code",
      "execution_count": null,
      "metadata": {
        "colab": {
          "base_uri": "https://localhost:8080/"
        },
        "id": "EgOBB1Ga6bSc",
        "outputId": "6a9b7fbe-9308-451c-b341-bb68b61f0034"
      },
      "outputs": [
        {
          "output_type": "execute_result",
          "data": {
            "text/plain": [
              "['hello']"
            ]
          },
          "metadata": {},
          "execution_count": 59
        }
      ],
      "source": [
        "extract_feature(\"hello\")"
      ]
    },
    {
      "cell_type": "code",
      "execution_count": null,
      "metadata": {
        "colab": {
          "base_uri": "https://localhost:8080/"
        },
        "id": "-MQMXJpz6bSc",
        "outputId": "40db2a92-ef18-4e5b-b229-779cc62f040f"
      },
      "outputs": [
        {
          "output_type": "execute_result",
          "data": {
            "text/plain": [
              "{'hello': True}"
            ]
          },
          "metadata": {},
          "execution_count": 60
        }
      ],
      "source": [
        "word_feats(extract_feature(\"hello\"))"
      ]
    },
    {
      "cell_type": "code",
      "execution_count": null,
      "metadata": {
        "colab": {
          "base_uri": "https://localhost:8080/",
          "height": 36
        },
        "id": "MS7WkcF36bSc",
        "outputId": "50b76d31-0678-4a8b-b211-5305d46ebd50"
      },
      "outputs": [
        {
          "output_type": "execute_result",
          "data": {
            "text/plain": [
              "'Balance-Optional-Leaves'"
            ],
            "application/vnd.google.colaboratory.intrinsic+json": {
              "type": "string"
            }
          },
          "metadata": {},
          "execution_count": 61
        }
      ],
      "source": [
        "input_sentence = \"how many balanced leaves do I have?\"\n",
        "classifier.classify(word_feats(extract_feature(input_sentence)))"
      ]
    },
    {
      "cell_type": "code",
      "execution_count": null,
      "metadata": {
        "id": "MjSRn2RP6bSc"
      },
      "outputs": [],
      "source": []
    },
    {
      "cell_type": "code",
      "execution_count": null,
      "metadata": {
        "id": "hqdDzMdu6bSc"
      },
      "outputs": [],
      "source": [
        "def reply(input_sentence):\n",
        "    category = dtclassifier.classify(word_feats(extract_feature(input_sentence)))\n",
        "    return answers[category]\n",
        "    \n",
        "    "
      ]
    },
    {
      "cell_type": "code",
      "execution_count": null,
      "metadata": {
        "colab": {
          "base_uri": "https://localhost:8080/",
          "height": 36
        },
        "id": "7DxH1dFY6bSc",
        "outputId": "91dfe434-8ca7-49ed-b590-e5e910547f51"
      },
      "outputs": [
        {
          "output_type": "execute_result",
          "data": {
            "text/plain": [
              "'Hello. I am Dexter. I will serve your leave enquiries.'"
            ],
            "application/vnd.google.colaboratory.intrinsic+json": {
              "type": "string"
            }
          },
          "metadata": {},
          "execution_count": 63
        }
      ],
      "source": [
        "reply('Hi')"
      ]
    },
    {
      "cell_type": "code",
      "execution_count": null,
      "metadata": {
        "colab": {
          "base_uri": "https://localhost:8080/",
          "height": 36
        },
        "id": "PT6HuLtD6bSc",
        "outputId": "0c6abf50-6006-4043-894e-72872dcced94"
      },
      "outputs": [
        {
          "output_type": "execute_result",
          "data": {
            "text/plain": [
              "'You have 25 annual leaves remaining.'"
            ],
            "application/vnd.google.colaboratory.intrinsic+json": {
              "type": "string"
            }
          },
          "metadata": {},
          "execution_count": 64
        }
      ],
      "source": [
        "reply('How many annual leaves do I have left?')"
      ]
    },
    {
      "cell_type": "code",
      "execution_count": null,
      "metadata": {
        "colab": {
          "base_uri": "https://localhost:8080/",
          "height": 36
        },
        "id": "KoY1u9v66bSd",
        "outputId": "82866d93-4f47-436b-a9e9-d8de29439760"
      },
      "outputs": [
        {
          "output_type": "execute_result",
          "data": {
            "text/plain": [
              "'You have used 12 annual leaves.'"
            ],
            "application/vnd.google.colaboratory.intrinsic+json": {
              "type": "string"
            }
          },
          "metadata": {},
          "execution_count": 65
        }
      ],
      "source": [
        "reply('How many leaves have I taken?')"
      ]
    },
    {
      "cell_type": "code",
      "execution_count": null,
      "metadata": {
        "colab": {
          "base_uri": "https://localhost:8080/",
          "height": 36
        },
        "id": "QnRb55hc6bSd",
        "outputId": "679bbd6c-7406-4a40-b614-e11416473e53"
      },
      "outputs": [
        {
          "output_type": "execute_result",
          "data": {
            "text/plain": [
              "\"It's glad to know that I have been helpful. Have a good day!\""
            ],
            "application/vnd.google.colaboratory.intrinsic+json": {
              "type": "string"
            }
          },
          "metadata": {},
          "execution_count": 66
        }
      ],
      "source": [
        "reply('Thanks!')"
      ]
    },
    {
      "cell_type": "code",
      "execution_count": null,
      "metadata": {
        "id": "lRDZrkHw6bSd"
      },
      "outputs": [],
      "source": []
    },
    {
      "cell_type": "code",
      "execution_count": null,
      "metadata": {
        "id": "NjZL9gyF6bSd"
      },
      "outputs": [],
      "source": []
    },
    {
      "cell_type": "code",
      "execution_count": null,
      "metadata": {
        "id": "DKgoBgPp6bSd"
      },
      "outputs": [],
      "source": []
    },
    {
      "cell_type": "markdown",
      "metadata": {
        "id": "LV6Wv8xZ6bSd"
      },
      "source": [
        "# Conclusion:"
      ]
    },
    {
      "cell_type": "markdown",
      "metadata": {
        "id": "ryaAsld16bSd"
      },
      "source": [
        "Once the model has been developed using an algorithm that gives an acceptable accuracy, this model can be called using to any chatbot UI framework"
      ]
    },
    {
      "cell_type": "code",
      "execution_count": null,
      "metadata": {
        "colab": {
          "base_uri": "https://localhost:8080/"
        },
        "id": "7vvNTb8I6bSd",
        "outputId": "a2f0750f-66d7-48a7-97b4-900d9a3ddcd5"
      },
      "outputs": [
        {
          "output_type": "stream",
          "name": "stdout",
          "text": [
            "absl-py==1.3.0\n",
            "aeppl==0.0.33\n",
            "aesara==2.7.9\n",
            "aiohttp==3.8.3\n",
            "aiosignal==1.3.1\n",
            "alabaster==0.7.12\n",
            "albumentations==1.2.1\n",
            "altair==4.2.0\n",
            "appdirs==1.4.4\n",
            "arviz==0.12.1\n",
            "astor==0.8.1\n",
            "astropy==4.3.1\n",
            "astunparse==1.6.3\n",
            "async-timeout==4.0.2\n",
            "atari-py==0.2.9\n",
            "atomicwrites==1.4.1\n",
            "attrs==22.2.0\n",
            "audioread==3.0.0\n",
            "autograd==1.5\n",
            "Babel==2.11.0\n",
            "backcall==0.2.0\n",
            "beautifulsoup4==4.6.3\n",
            "bleach==5.0.1\n",
            "blis==0.7.9\n",
            "bokeh==2.3.3\n",
            "branca==0.6.0\n",
            "bs4==0.0.1\n",
            "CacheControl==0.12.11\n",
            "cachetools==5.2.1\n",
            "catalogue==2.0.8\n",
            "certifi==2022.12.7\n",
            "cffi==1.15.1\n",
            "cftime==1.6.2\n",
            "chardet==4.0.0\n",
            "charset-normalizer==2.1.1\n",
            "click==7.1.2\n",
            "clikit==0.6.2\n",
            "cloudpickle==2.2.0\n",
            "cmake==3.22.6\n",
            "cmdstanpy==1.0.8\n",
            "colorcet==3.0.1\n",
            "colorlover==0.3.0\n",
            "community==1.0.0b1\n",
            "confection==0.0.3\n",
            "cons==0.4.5\n",
            "contextlib2==0.5.5\n",
            "convertdate==2.4.0\n",
            "crashtest==0.3.1\n",
            "crcmod==1.7\n",
            "cufflinks==0.17.3\n",
            "cvxopt==1.3.0\n",
            "cvxpy==1.2.3\n",
            "cycler==0.11.0\n",
            "cymem==2.0.7\n",
            "Cython==0.29.33\n",
            "daft==0.0.4\n",
            "dask==2022.2.1\n",
            "datascience==0.17.5\n",
            "db-dtypes==1.0.5\n",
            "dbus-python==1.2.16\n",
            "debugpy==1.0.0\n",
            "decorator==4.4.2\n",
            "defusedxml==0.7.1\n",
            "descartes==1.1.0\n",
            "dill==0.3.6\n",
            "distributed==2022.2.1\n",
            "dlib==19.24.0\n",
            "dm-tree==0.1.8\n",
            "dnspython==2.2.1\n",
            "docutils==0.16\n",
            "dopamine-rl==1.0.5\n",
            "earthengine-api==0.1.335\n",
            "easydict==1.10\n",
            "ecos==2.0.12\n",
            "editdistance==0.5.3\n",
            "en-core-web-sm @ https://github.com/explosion/spacy-models/releases/download/en_core_web_sm-3.4.1/en_core_web_sm-3.4.1-py3-none-any.whl\n",
            "entrypoints==0.4\n",
            "ephem==4.1.4\n",
            "et-xmlfile==1.1.0\n",
            "etils==1.0.0\n",
            "etuples==0.3.8\n",
            "fa2==0.3.5\n",
            "fastai==2.7.10\n",
            "fastcore==1.5.27\n",
            "fastdownload==0.0.7\n",
            "fastdtw==0.3.4\n",
            "fastjsonschema==2.16.2\n",
            "fastprogress==1.0.3\n",
            "fastrlock==0.8.1\n",
            "feather-format==0.4.1\n",
            "filelock==3.9.0\n",
            "firebase-admin==5.3.0\n",
            "fix-yahoo-finance==0.0.22\n",
            "Flask==1.1.4\n",
            "flatbuffers==1.12\n",
            "folium==0.12.1.post1\n",
            "frozenlist==1.3.3\n",
            "fsspec==2022.11.0\n",
            "future==0.16.0\n",
            "gast==0.4.0\n",
            "GDAL==3.0.4\n",
            "gdown==4.4.0\n",
            "gensim==3.6.0\n",
            "geographiclib==1.52\n",
            "geopy==1.17.0\n",
            "gin-config==0.5.0\n",
            "glob2==0.7\n",
            "google==2.0.3\n",
            "google-api-core==2.11.0\n",
            "google-api-python-client==2.70.0\n",
            "google-auth==2.16.0\n",
            "google-auth-httplib2==0.1.0\n",
            "google-auth-oauthlib==0.4.6\n",
            "google-cloud-bigquery==3.4.1\n",
            "google-cloud-bigquery-storage==2.17.0\n",
            "google-cloud-core==2.3.2\n",
            "google-cloud-datastore==2.11.1\n",
            "google-cloud-firestore==2.7.3\n",
            "google-cloud-language==2.6.1\n",
            "google-cloud-storage==2.7.0\n",
            "google-cloud-translate==3.8.4\n",
            "google-colab @ file:///colabtools/dist/google-colab-1.0.0.tar.gz\n",
            "google-crc32c==1.5.0\n",
            "google-pasta==0.2.0\n",
            "google-resumable-media==2.4.0\n",
            "googleapis-common-protos==1.58.0\n",
            "googledrivedownloader==0.4\n",
            "graphviz==0.10.1\n",
            "greenlet==2.0.1\n",
            "grpcio==1.51.1\n",
            "grpcio-status==1.48.2\n",
            "gspread==3.4.2\n",
            "gspread-dataframe==3.0.8\n",
            "gym==0.25.2\n",
            "gym-notices==0.0.8\n",
            "h5py==3.1.0\n",
            "HeapDict==1.0.1\n",
            "hijri-converter==2.2.4\n",
            "holidays==0.18\n",
            "holoviews==1.14.9\n",
            "html5lib==1.0.1\n",
            "httpimport==0.5.18\n",
            "httplib2==0.17.4\n",
            "httpstan==4.6.1\n",
            "humanize==0.5.1\n",
            "hyperopt==0.1.2\n",
            "idna==2.10\n",
            "imageio==2.9.0\n",
            "imagesize==1.4.1\n",
            "imbalanced-learn==0.8.1\n",
            "imblearn==0.0\n",
            "imgaug==0.4.0\n",
            "importlib-metadata==6.0.0\n",
            "importlib-resources==5.10.2\n",
            "imutils==0.5.4\n",
            "inflect==2.1.0\n",
            "intel-openmp==2023.0.0\n",
            "intervaltree==2.1.0\n",
            "ipykernel==5.3.4\n",
            "ipython==7.9.0\n",
            "ipython-genutils==0.2.0\n",
            "ipython-sql==0.3.9\n",
            "ipywidgets==7.7.1\n",
            "itsdangerous==1.1.0\n",
            "jax==0.3.25\n",
            "jaxlib @ https://storage.googleapis.com/jax-releases/cuda11/jaxlib-0.3.25+cuda11.cudnn805-cp38-cp38-manylinux2014_x86_64.whl\n",
            "jieba==0.42.1\n",
            "Jinja2==2.11.3\n",
            "joblib==1.2.0\n",
            "jpeg4py==0.1.4\n",
            "jsonschema==4.3.3\n",
            "jupyter-client==6.1.12\n",
            "jupyter-console==6.1.0\n",
            "jupyter_core==5.1.3\n",
            "jupyterlab-widgets==3.0.5\n",
            "kaggle==1.5.12\n",
            "kapre==0.3.7\n",
            "keras==2.9.0\n",
            "Keras-Preprocessing==1.1.2\n",
            "keras-vis==0.4.1\n",
            "kiwisolver==1.4.4\n",
            "korean-lunar-calendar==0.3.1\n",
            "langcodes==3.3.0\n",
            "libclang==15.0.6.1\n",
            "librosa==0.8.1\n",
            "lightgbm==2.2.3\n",
            "llvmlite==0.39.1\n",
            "lmdb==0.99\n",
            "locket==1.0.0\n",
            "logical-unification==0.4.5\n",
            "LunarCalendar==0.0.9\n",
            "lxml==4.9.2\n",
            "Markdown==3.4.1\n",
            "MarkupSafe==2.0.1\n",
            "marshmallow==3.19.0\n",
            "matplotlib==3.2.2\n",
            "matplotlib-venn==0.11.7\n",
            "miniKanren==1.0.3\n",
            "missingno==0.5.1\n",
            "mistune==0.8.4\n",
            "mizani==0.7.3\n",
            "mkl==2019.0\n",
            "mlxtend==0.14.0\n",
            "more-itertools==9.0.0\n",
            "moviepy==0.2.3.5\n",
            "mpmath==1.2.1\n",
            "msgpack==1.0.4\n",
            "multidict==6.0.4\n",
            "multipledispatch==0.6.0\n",
            "multitasking==0.0.11\n",
            "murmurhash==1.0.9\n",
            "music21==5.5.0\n",
            "natsort==5.5.0\n",
            "nbconvert==5.6.1\n",
            "nbformat==5.7.1\n",
            "netCDF4==1.6.2\n",
            "networkx==3.0\n",
            "nibabel==3.0.2\n",
            "nltk==3.7\n",
            "notebook==5.7.16\n",
            "numba==0.56.4\n",
            "numexpr==2.8.4\n",
            "numpy==1.21.6\n",
            "oauth2client==4.1.3\n",
            "oauthlib==3.2.2\n",
            "okgrade==0.4.3\n",
            "opencv-contrib-python==4.6.0.66\n",
            "opencv-python==4.6.0.66\n",
            "opencv-python-headless==4.7.0.68\n",
            "openpyxl==3.0.10\n",
            "opt-einsum==3.3.0\n",
            "osqp==0.6.2.post0\n",
            "packaging==21.3\n",
            "palettable==3.3.0\n",
            "pandas==1.3.5\n",
            "pandas-datareader==0.9.0\n",
            "pandas-gbq==0.17.9\n",
            "pandas-profiling==1.4.1\n",
            "pandocfilters==1.5.0\n",
            "panel==0.12.1\n",
            "param==1.12.3\n",
            "parso==0.8.3\n",
            "partd==1.3.0\n",
            "pastel==0.2.1\n",
            "pathlib==1.0.1\n",
            "pathy==0.10.1\n",
            "patsy==0.5.3\n",
            "pep517==0.13.0\n",
            "pexpect==4.8.0\n",
            "pickleshare==0.7.5\n",
            "Pillow==7.1.2\n",
            "pip-tools==6.6.2\n",
            "platformdirs==2.6.2\n",
            "plotly==5.5.0\n",
            "plotnine==0.8.0\n",
            "pluggy==0.7.1\n",
            "pooch==1.6.0\n",
            "portpicker==1.3.9\n",
            "prefetch-generator==1.0.3\n",
            "preshed==3.0.8\n",
            "prettytable==3.6.0\n",
            "progressbar2==3.38.0\n",
            "prometheus-client==0.15.0\n",
            "promise==2.3\n",
            "prompt-toolkit==2.0.10\n",
            "prophet==1.1.1\n",
            "proto-plus==1.22.2\n",
            "protobuf==3.19.6\n",
            "psutil==5.4.8\n",
            "psycopg2==2.9.5\n",
            "ptyprocess==0.7.0\n",
            "py==1.11.0\n",
            "pyarrow==9.0.0\n",
            "pyasn1==0.4.8\n",
            "pyasn1-modules==0.2.8\n",
            "pycocotools==2.0.6\n",
            "pycparser==2.21\n",
            "pyct==0.4.8\n",
            "pydantic==1.10.4\n",
            "pydata-google-auth==1.5.0\n",
            "pydot==1.3.0\n",
            "pydot-ng==2.0.0\n",
            "pydotplus==2.0.2\n",
            "PyDrive==1.3.1\n",
            "pyemd==0.5.1\n",
            "pyerfa==2.0.0.1\n",
            "Pygments==2.6.1\n",
            "PyGObject==3.36.0\n",
            "pylev==1.4.0\n",
            "pymc==4.1.4\n",
            "PyMeeus==0.5.12\n",
            "pymongo==4.3.3\n",
            "pymystem3==0.2.0\n",
            "PyOpenGL==3.1.6\n",
            "pyparsing==3.0.9\n",
            "pyrsistent==0.19.3\n",
            "pysimdjson==3.2.0\n",
            "PySocks==1.7.1\n",
            "pystan==3.3.0\n",
            "pytest==3.6.4\n",
            "python-apt==2.0.1\n",
            "python-dateutil==2.8.2\n",
            "python-louvain==0.16\n",
            "python-slugify==7.0.0\n",
            "python-utils==3.4.5\n",
            "pytz==2022.7\n",
            "pyviz-comms==2.2.1\n",
            "PyWavelets==1.4.1\n",
            "PyYAML==6.0\n",
            "pyzmq==23.2.1\n",
            "qdldl==0.1.5.post2\n",
            "qudida==0.0.4\n",
            "regex==2022.6.2\n",
            "requests==2.25.1\n",
            "requests-oauthlib==1.3.1\n",
            "requests-unixsocket==0.2.0\n",
            "resampy==0.4.2\n",
            "rpy2==3.5.5\n",
            "rsa==4.9\n",
            "scikit-image==0.18.3\n",
            "scikit-learn==1.0.2\n",
            "scipy==1.7.3\n",
            "screen-resolution-extra==0.0.0\n",
            "scs==3.2.2\n",
            "seaborn==0.11.2\n",
            "Send2Trash==1.8.0\n",
            "setuptools-git==1.2\n",
            "shapely==2.0.0\n",
            "six==1.15.0\n",
            "sklearn-pandas==1.8.0\n",
            "smart-open==6.3.0\n",
            "snowballstemmer==2.2.0\n",
            "sortedcontainers==2.4.0\n",
            "soundfile==0.11.0\n",
            "spacy==3.4.4\n",
            "spacy-legacy==3.0.11\n",
            "spacy-loggers==1.0.4\n",
            "Sphinx==3.5.4\n",
            "sphinxcontrib-devhelp==1.0.2\n",
            "sphinxcontrib-htmlhelp==2.0.0\n",
            "sphinxcontrib-jsmath==1.0.1\n",
            "sphinxcontrib-qthelp==1.0.3\n",
            "sphinxcontrib-serializinghtml==1.1.5\n",
            "sphinxcontrib.applehelp==1.0.3\n",
            "SQLAlchemy==1.4.46\n",
            "sqlparse==0.4.3\n",
            "srsly==2.4.5\n",
            "statsmodels==0.12.2\n",
            "sympy==1.7.1\n",
            "tables==3.7.0\n",
            "tabulate==0.8.10\n",
            "tblib==1.7.0\n",
            "tenacity==8.1.0\n",
            "tensorboard==2.9.1\n",
            "tensorboard-data-server==0.6.1\n",
            "tensorboard-plugin-wit==1.8.1\n",
            "tensorflow==2.9.2\n",
            "tensorflow-datasets==4.8.1\n",
            "tensorflow-estimator==2.9.0\n",
            "tensorflow-gcs-config==2.9.1\n",
            "tensorflow-hub==0.12.0\n",
            "tensorflow-io-gcs-filesystem==0.29.0\n",
            "tensorflow-metadata==1.12.0\n",
            "tensorflow-probability==0.17.0\n",
            "termcolor==2.2.0\n",
            "terminado==0.13.3\n",
            "testpath==0.6.0\n",
            "text-unidecode==1.3\n",
            "textblob==0.15.3\n",
            "thinc==8.1.6\n",
            "threadpoolctl==3.1.0\n",
            "tifffile==2022.10.10\n",
            "toml==0.10.2\n",
            "tomli==2.0.1\n",
            "toolz==0.12.0\n",
            "torch @ https://download.pytorch.org/whl/cu116/torch-1.13.1%2Bcu116-cp38-cp38-linux_x86_64.whl\n",
            "torchaudio @ https://download.pytorch.org/whl/cu116/torchaudio-0.13.1%2Bcu116-cp38-cp38-linux_x86_64.whl\n",
            "torchsummary==1.5.1\n",
            "torchtext==0.14.1\n",
            "torchvision @ https://download.pytorch.org/whl/cu116/torchvision-0.14.1%2Bcu116-cp38-cp38-linux_x86_64.whl\n",
            "tornado==6.0.4\n",
            "tqdm==4.64.1\n",
            "traitlets==5.7.1\n",
            "tweepy==3.10.0\n",
            "typeguard==2.7.1\n",
            "typer==0.7.0\n",
            "typing_extensions==4.4.0\n",
            "tzlocal==1.5.1\n",
            "uritemplate==4.1.1\n",
            "urllib3==1.24.3\n",
            "vega-datasets==0.9.0\n",
            "wasabi==0.10.1\n",
            "wcwidth==0.2.5\n",
            "webargs==8.2.0\n",
            "webencodings==0.5.1\n",
            "Werkzeug==1.0.1\n",
            "widgetsnbextension==3.6.1\n",
            "wordcloud==1.8.2.2\n",
            "wrapt==1.14.1\n",
            "xarray==2022.12.0\n",
            "xarray-einstats==0.4.0\n",
            "xgboost==0.90\n",
            "xkit==0.0.0\n",
            "xlrd==1.2.0\n",
            "xlwt==1.3.0\n",
            "yarl==1.8.2\n",
            "yellowbrick==1.5\n",
            "zict==2.2.0\n",
            "zipp==3.11.0\n"
          ]
        }
      ],
      "source": [
        "!pip freeze"
      ]
    },
    {
      "cell_type": "code",
      "source": [],
      "metadata": {
        "id": "VQkZ9Sul-TI1"
      },
      "execution_count": null,
      "outputs": []
    }
  ],
  "metadata": {
    "kernelspec": {
      "display_name": "Python 3",
      "language": "python",
      "name": "python3"
    },
    "language_info": {
      "codemirror_mode": {
        "name": "ipython",
        "version": 3
      },
      "file_extension": ".py",
      "mimetype": "text/x-python",
      "name": "python",
      "nbconvert_exporter": "python",
      "pygments_lexer": "ipython3",
      "version": "3.7.6"
    },
    "colab": {
      "provenance": []
    }
  },
  "nbformat": 4,
  "nbformat_minor": 0
}